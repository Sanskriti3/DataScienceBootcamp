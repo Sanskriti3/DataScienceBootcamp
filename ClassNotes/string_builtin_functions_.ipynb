{
  "nbformat": 4,
  "nbformat_minor": 0,
  "metadata": {
    "colab": {
      "provenance": []
    },
    "kernelspec": {
      "name": "python3",
      "display_name": "Python 3"
    },
    "language_info": {
      "name": "python"
    }
  },
  "cells": [
    {
      "cell_type": "code",
      "execution_count": null,
      "metadata": {
        "colab": {
          "base_uri": "https://localhost:8080/"
        },
        "id": "89XvK89sSWyA",
        "outputId": "6439ac4a-569c-4e31-8d82-dcb3850fcaf0"
      },
      "outputs": [
        {
          "output_type": "stream",
          "name": "stdout",
          "text": [
            "HloWrd\n"
          ]
        }
      ],
      "source": [
        "temp_str = \"Hello World\"\n",
        "print(temp_str[::2])\n",
        "#string slicing[start:stop:step]\n"
      ]
    },
    {
      "cell_type": "code",
      "source": [
        "dir(temp_str)"
      ],
      "metadata": {
        "colab": {
          "base_uri": "https://localhost:8080/"
        },
        "id": "1Xx_xRDeSckY",
        "outputId": "dc50feaf-edf0-4378-d841-a3dbdc262911"
      },
      "execution_count": null,
      "outputs": [
        {
          "output_type": "execute_result",
          "data": {
            "text/plain": [
              "['__add__',\n",
              " '__class__',\n",
              " '__contains__',\n",
              " '__delattr__',\n",
              " '__dir__',\n",
              " '__doc__',\n",
              " '__eq__',\n",
              " '__format__',\n",
              " '__ge__',\n",
              " '__getattribute__',\n",
              " '__getitem__',\n",
              " '__getnewargs__',\n",
              " '__gt__',\n",
              " '__hash__',\n",
              " '__init__',\n",
              " '__init_subclass__',\n",
              " '__iter__',\n",
              " '__le__',\n",
              " '__len__',\n",
              " '__lt__',\n",
              " '__mod__',\n",
              " '__mul__',\n",
              " '__ne__',\n",
              " '__new__',\n",
              " '__reduce__',\n",
              " '__reduce_ex__',\n",
              " '__repr__',\n",
              " '__rmod__',\n",
              " '__rmul__',\n",
              " '__setattr__',\n",
              " '__sizeof__',\n",
              " '__str__',\n",
              " '__subclasshook__',\n",
              " 'capitalize',\n",
              " 'casefold',\n",
              " 'center',\n",
              " 'count',\n",
              " 'encode',\n",
              " 'endswith',\n",
              " 'expandtabs',\n",
              " 'find',\n",
              " 'format',\n",
              " 'format_map',\n",
              " 'index',\n",
              " 'isalnum',\n",
              " 'isalpha',\n",
              " 'isascii',\n",
              " 'isdecimal',\n",
              " 'isdigit',\n",
              " 'isidentifier',\n",
              " 'islower',\n",
              " 'isnumeric',\n",
              " 'isprintable',\n",
              " 'isspace',\n",
              " 'istitle',\n",
              " 'isupper',\n",
              " 'join',\n",
              " 'ljust',\n",
              " 'lower',\n",
              " 'lstrip',\n",
              " 'maketrans',\n",
              " 'partition',\n",
              " 'removeprefix',\n",
              " 'removesuffix',\n",
              " 'replace',\n",
              " 'rfind',\n",
              " 'rindex',\n",
              " 'rjust',\n",
              " 'rpartition',\n",
              " 'rsplit',\n",
              " 'rstrip',\n",
              " 'split',\n",
              " 'splitlines',\n",
              " 'startswith',\n",
              " 'strip',\n",
              " 'swapcase',\n",
              " 'title',\n",
              " 'translate',\n",
              " 'upper',\n",
              " 'zfill']"
            ]
          },
          "metadata": {},
          "execution_count": 2
        }
      ]
    },
    {
      "cell_type": "code",
      "source": [
        "#takes 1st charater of string to upper case\n",
        "temp_str = \"hello world\"\n",
        "print(temp_str.capitalize())"
      ],
      "metadata": {
        "colab": {
          "base_uri": "https://localhost:8080/"
        },
        "id": "AcGwOIuiScyv",
        "outputId": "0ebbb8c9-5f70-46fb-8ee9-bdfd0e60d844"
      },
      "execution_count": null,
      "outputs": [
        {
          "output_type": "stream",
          "name": "stdout",
          "text": [
            "Hello world\n"
          ]
        }
      ]
    },
    {
      "cell_type": "code",
      "source": [
        "#returns string where all characters are lowercase\n",
        "temp_str = \"HelLo wOrld\"\n",
        "print(temp_str.casefold())"
      ],
      "metadata": {
        "colab": {
          "base_uri": "https://localhost:8080/"
        },
        "id": "9x61_aPbUYkz",
        "outputId": "0501f403-760f-4ddb-9d70-01339009c56a"
      },
      "execution_count": null,
      "outputs": [
        {
          "output_type": "stream",
          "name": "stdout",
          "text": [
            "hello world\n"
          ]
        }
      ]
    },
    {
      "cell_type": "code",
      "source": [
        "temp_str = \"hello world\"\n",
        "print(temp_str.center(28,\"*\"))\n",
        "#increases the length of string to 28 tries to put the value of the variable in center\n",
        "# increases length of string by adding whatever character is mentioned if not by default fills by space\n"
      ],
      "metadata": {
        "colab": {
          "base_uri": "https://localhost:8080/"
        },
        "id": "KJO4XYgQUYgF",
        "outputId": "505fcb3f-73a1-482d-f25f-6df0ab7781c4"
      },
      "execution_count": null,
      "outputs": [
        {
          "output_type": "stream",
          "name": "stdout",
          "text": [
            "********hello world*********\n"
          ]
        }
      ]
    },
    {
      "cell_type": "code",
      "source": [
        "#Returns how many times a substring appears in the given range by default picks full string\n",
        "temp_str= \"Hello World how is it going? HeLLo all good\".casefold()\n",
        "print(temp_str)\n",
        "print(temp_str.count(\"Hello\"))\n",
        "print(temp_str.count(\"hello\"))\n",
        "\n",
        "#how to give range\n",
        "#count(value,start,end) # start and end are optional if not given takes full string\n",
        "#It only works for alphabetic characters\n",
        "\n",
        "print(temp_str.count(\"hello\",2))\n",
        "#here it is starting fron 2nd index"
      ],
      "metadata": {
        "colab": {
          "base_uri": "https://localhost:8080/"
        },
        "id": "Nd-DFZFTUYcD",
        "outputId": "033af43d-2a50-4b21-fcc3-49ab23f2d73d"
      },
      "execution_count": null,
      "outputs": [
        {
          "output_type": "stream",
          "name": "stdout",
          "text": [
            "hello world how is it going? hello all good\n",
            "0\n",
            "2\n",
            "1\n"
          ]
        }
      ]
    },
    {
      "cell_type": "code",
      "source": [
        "#checks what a string ends with. gives result in true or false\n",
        "temp_str = \"Hello World how is it going? HeLLo all good !\"\n",
        "#endswith(value,start,end)\n",
        "print(temp_str.endswith(\"lo\",0,5))"
      ],
      "metadata": {
        "colab": {
          "base_uri": "https://localhost:8080/"
        },
        "id": "y6xGtk-AUYYP",
        "outputId": "cd426689-3a65-40ff-9402-3e74d254d669"
      },
      "execution_count": null,
      "outputs": [
        {
          "output_type": "stream",
          "name": "stdout",
          "text": [
            "True\n"
          ]
        }
      ]
    },
    {
      "cell_type": "code",
      "source": [
        "#returns lowest index of the substring if found else returns -1\n",
        "temp_str=\"Hello World how is it going? HeLLo all good! how are you!\"\n",
        "print(temp_str.find(\"how\"))"
      ],
      "metadata": {
        "colab": {
          "base_uri": "https://localhost:8080/"
        },
        "id": "rOmz3p5WUYT0",
        "outputId": "e17bac8d-6f22-4cfc-a23e-f75664943a58"
      },
      "execution_count": null,
      "outputs": [
        {
          "output_type": "stream",
          "name": "stdout",
          "text": [
            "12\n"
          ]
        }
      ]
    },
    {
      "cell_type": "code",
      "source": [
        "temp_str= \"Hello my name is {fname}, I am a {position}!\"\n",
        "print(temp_str.format(fname=\"Sanskriti\",position=\"student\"))\n",
        "temp_str1= \"Hello my name is {0}, I am a {1}!\"\n",
        "print(temp_str1.format(\"sanskriti\",\"data\"))"
      ],
      "metadata": {
        "colab": {
          "base_uri": "https://localhost:8080/"
        },
        "id": "fgAPc4mDUYP5",
        "outputId": "9f3601da-8367-43a2-c328-3e6d191f922d"
      },
      "execution_count": null,
      "outputs": [
        {
          "output_type": "stream",
          "name": "stdout",
          "text": [
            "Hello my name is Sanskriti, I am a student!\n",
            "Hello my name is sanskriti, I am a data!\n"
          ]
        }
      ]
    },
    {
      "cell_type": "code",
      "source": [
        "#replica of find function but this returns errors if nothing found\n",
        "temp_str=\"Hello World how is it going? HeLLo all good! how are you!\"\n",
        "temp_str.index(\"how\")"
      ],
      "metadata": {
        "colab": {
          "base_uri": "https://localhost:8080/"
        },
        "id": "iJzPQDFlUYNU",
        "outputId": "61b45372-a688-4423-97f2-3a5fafab856e"
      },
      "execution_count": null,
      "outputs": [
        {
          "output_type": "execute_result",
          "data": {
            "text/plain": [
              "12"
            ]
          },
          "metadata": {},
          "execution_count": 25
        }
      ]
    },
    {
      "cell_type": "code",
      "source": [
        "#returns True if only numbers and alphabets are present else returns false\n",
        "temp_str= \"Hello World how is it going? HeLLo all good! how are you! \"\n",
        "temp_str1 = \"HelloWorld112\"\n",
        "print(temp_str.isalnum())\n",
        "print(temp_str1.isalnum())\n",
        "print(temp_str[0:5].isalnum())"
      ],
      "metadata": {
        "colab": {
          "base_uri": "https://localhost:8080/"
        },
        "id": "QRqF2b4PUYKQ",
        "outputId": "fbd24852-6571-41d6-f111-8a341557667e"
      },
      "execution_count": null,
      "outputs": [
        {
          "output_type": "stream",
          "name": "stdout",
          "text": [
            "False\n",
            "True\n",
            "True\n"
          ]
        }
      ]
    },
    {
      "cell_type": "code",
      "source": [
        "#checks if it is only alphabets\n",
        "temp_str= \"HelloWorld\"\n",
        "print(temp_str.isalpha())"
      ],
      "metadata": {
        "colab": {
          "base_uri": "https://localhost:8080/"
        },
        "id": "kvvPHjbUUYGu",
        "outputId": "22c08d52-6ca6-4e47-e4be-fb08651713f4"
      },
      "execution_count": null,
      "outputs": [
        {
          "output_type": "stream",
          "name": "stdout",
          "text": [
            "True\n"
          ]
        }
      ]
    },
    {
      "cell_type": "code",
      "source": [
        "#returns true if it is only numbers between 0-9 else returns false\n",
        "# can be used for unicode\n",
        "temp_str=\"HelloWorld\"\n",
        "print(temp_str.isdecimal())\n",
        "temp_str1= \"12346\"\n",
        "print(temp_str1.isdecimal())\n",
        "unicode_0=\"\\u0030\"\n",
        "print(unicode_0.isdecimal())"
      ],
      "metadata": {
        "colab": {
          "base_uri": "https://localhost:8080/"
        },
        "id": "BLCg_IbpUYED",
        "outputId": "dbeeeeca-6967-46a3-82d7-1a552eb3fe94"
      },
      "execution_count": null,
      "outputs": [
        {
          "output_type": "stream",
          "name": "stdout",
          "text": [
            "False\n",
            "True\n",
            "True\n"
          ]
        }
      ]
    },
    {
      "cell_type": "code",
      "source": [
        "# similar to isdecimal doesnot use unicode\n",
        "temp_str=\"HelloWorld\"\n",
        "print(temp_str.isdigit())\n",
        "temp_str1= \"12346\"\n",
        "print(temp_str1.isdigit())\n",
        "unicode_0=\"\\u0035\"\n",
        "print(unicode_0.isdigit())"
      ],
      "metadata": {
        "colab": {
          "base_uri": "https://localhost:8080/"
        },
        "id": "VQOQ3vGOkuvZ",
        "outputId": "36584e6a-9cc6-408e-fddb-bd31219a2480"
      },
      "execution_count": null,
      "outputs": [
        {
          "output_type": "stream",
          "name": "stdout",
          "text": [
            "False\n",
            "True\n",
            "True\n"
          ]
        }
      ]
    },
    {
      "cell_type": "code",
      "source": [
        "#Decimal doesnot work with subscript but digit works with it\n",
        "temp_str=\"\\u00B2\"\n",
        "print(\"km\\u00B2\")\n",
        "print(temp_str.isdecimal())\n",
        "print(temp_str.isdigit())"
      ],
      "metadata": {
        "colab": {
          "base_uri": "https://localhost:8080/"
        },
        "id": "5w9L2KHrkulX",
        "outputId": "2b042c11-522e-4ede-a3e3-46b09e44dc88"
      },
      "execution_count": null,
      "outputs": [
        {
          "output_type": "stream",
          "name": "stdout",
          "text": [
            "km²\n",
            "False\n",
            "True\n"
          ]
        }
      ]
    },
    {
      "cell_type": "code",
      "source": [
        "#returns True if the word is a keyword in python else returns false\n",
        "#this also works with variable declaration as true\n",
        "temp_str= \"Hello world\"\n",
        "print(temp_str.isidentifier())\n",
        "temp_str1= \"ifabb\"\n",
        "print(temp_str1.isidentifier())\n",
        "temp_str2= \"11abcs\"\n",
        "print(temp_str2.isidentifier())"
      ],
      "metadata": {
        "colab": {
          "base_uri": "https://localhost:8080/"
        },
        "id": "xr0PF6twa_WN",
        "outputId": "e738e3e6-a6e9-4e14-8b92-913db9b6a5f8"
      },
      "execution_count": null,
      "outputs": [
        {
          "output_type": "stream",
          "name": "stdout",
          "text": [
            "False\n",
            "True\n",
            "False\n"
          ]
        }
      ]
    },
    {
      "cell_type": "code",
      "source": [
        "#returns true if the alphabets in the string\n",
        "temp_str= \"Hello WORLD\"\n",
        "temp_str1= \"hello world 234\"\n",
        "print(temp_str.islower())\n",
        "print(temp_str1.islower())\n"
      ],
      "metadata": {
        "colab": {
          "base_uri": "https://localhost:8080/"
        },
        "id": "o0jtGxackuUz",
        "outputId": "bccf6356-29dd-42d7-d8ad-ff0ec7d47dcc"
      },
      "execution_count": null,
      "outputs": [
        {
          "output_type": "stream",
          "name": "stdout",
          "text": [
            "False\n",
            "True\n"
          ]
        }
      ]
    },
    {
      "cell_type": "code",
      "source": [
        "#returns true only if white space is present\n",
        "temp_str = \"Hello World\"\n",
        "print(temp_str.isspace())\n",
        "temp_str1 = \" \"\n",
        "print(temp_str1.isspace())"
      ],
      "metadata": {
        "colab": {
          "base_uri": "https://localhost:8080/"
        },
        "id": "Dpwi5DUbcNy6",
        "outputId": "d136941f-64f4-4702-9afb-1b432cd0913d"
      },
      "execution_count": null,
      "outputs": [
        {
          "output_type": "stream",
          "name": "stdout",
          "text": [
            "False\n",
            "True\n"
          ]
        }
      ]
    },
    {
      "cell_type": "code",
      "source": [
        "#is title returns true if the first alphabet of words in a string is capital\n",
        "temp_str= \"HELLO WORLD\"\n",
        "print(temp_str.istitle())\n",
        "temp_str1=\"Hello World\"\n",
        "print(temp_str1.istitle())\n"
      ],
      "metadata": {
        "colab": {
          "base_uri": "https://localhost:8080/"
        },
        "id": "0yJHNrHPdLZ3",
        "outputId": "779a8840-b32e-4ecf-f287-a97a03a8d140"
      },
      "execution_count": null,
      "outputs": [
        {
          "output_type": "stream",
          "name": "stdout",
          "text": [
            "False\n",
            "True\n"
          ]
        }
      ]
    },
    {
      "cell_type": "code",
      "source": [
        "#if all the alphabet available are in upper case returns true\n",
        "temp_str= \"HELLO WORLD\"\n",
        "print(temp_str.isupper())"
      ],
      "metadata": {
        "colab": {
          "base_uri": "https://localhost:8080/"
        },
        "id": "u0gw0Fq0eXh4",
        "outputId": "339bcbe4-8021-4a8c-9ac1-dd0b85d330bc"
      },
      "execution_count": null,
      "outputs": [
        {
          "output_type": "stream",
          "name": "stdout",
          "text": [
            "True\n"
          ]
        }
      ]
    },
    {
      "cell_type": "code",
      "source": [
        "#joins the strings in an iterable like list, tuple.. doesnot join numbers or anything else\n",
        "list_temp=[\"hello\", \"world\", \"how\", \"are\", \"you\" ]\n",
        "print(\"#\".join(list_temp))"
      ],
      "metadata": {
        "colab": {
          "base_uri": "https://localhost:8080/"
        },
        "id": "YKm4h_aPeXVO",
        "outputId": "9ccffe5f-ae78-4d0c-a842-202f733bf81a"
      },
      "execution_count": null,
      "outputs": [
        {
          "output_type": "stream",
          "name": "stdout",
          "text": [
            "hello#world#how#are#you\n"
          ]
        }
      ]
    },
    {
      "cell_type": "code",
      "source": [
        "temp_str= \"HELLO WORLD\"\n",
        "print(temp_str.lower())"
      ],
      "metadata": {
        "colab": {
          "base_uri": "https://localhost:8080/"
        },
        "id": "8OK7DsAzdLTV",
        "outputId": "dfe86715-2c61-4db9-f34e-8f3eebad91e6"
      },
      "execution_count": null,
      "outputs": [
        {
          "output_type": "stream",
          "name": "stdout",
          "text": [
            "hello world\n"
          ]
        }
      ]
    },
    {
      "cell_type": "code",
      "source": [
        "#removes white spaces and tabs on left side of the string\n",
        "temp_str= \"                HELLO WORLD     \"\n",
        "print(temp_str.lstrip())"
      ],
      "metadata": {
        "colab": {
          "base_uri": "https://localhost:8080/"
        },
        "id": "krcbUrVng5M2",
        "outputId": "48ef0638-7516-4e31-a9fe-db2cfab883e0"
      },
      "execution_count": null,
      "outputs": [
        {
          "output_type": "stream",
          "name": "stdout",
          "text": [
            "HELLO WORLD     \n"
          ]
        }
      ]
    },
    {
      "cell_type": "code",
      "source": [
        "temp_str = \"i could eat apples all day\"\n",
        "print(temp_str.partition('apples'))"
      ],
      "metadata": {
        "colab": {
          "base_uri": "https://localhost:8080/"
        },
        "id": "89F5a_uUdLOL",
        "outputId": "a0f55945-b7f4-473e-e933-46c5cd0f8177"
      },
      "execution_count": null,
      "outputs": [
        {
          "output_type": "stream",
          "name": "stdout",
          "text": [
            "('i could eat ', 'apples', ' all day')\n"
          ]
        }
      ]
    },
    {
      "cell_type": "code",
      "source": [
        "temp_str = \"i could eat apples all day, thats all i can say\"\n",
        "print(temp_str.replace('all',\"#\"))"
      ],
      "metadata": {
        "colab": {
          "base_uri": "https://localhost:8080/"
        },
        "id": "1JC9OWYYjrYi",
        "outputId": "a51e0a90-dd8c-47a0-92c7-28795ddb2679"
      },
      "execution_count": null,
      "outputs": [
        {
          "output_type": "stream",
          "name": "stdout",
          "text": [
            "i could eat apples # day, thats # i can say\n"
          ]
        }
      ]
    },
    {
      "cell_type": "code",
      "source": [
        "#removes white spaces and tabs on right side of the string\n",
        "temp_str= \"                HELLO WORLD     \"\n",
        "print(temp_str.rstrip())"
      ],
      "metadata": {
        "colab": {
          "base_uri": "https://localhost:8080/"
        },
        "id": "jg3u_nxhjrNQ",
        "outputId": "733321ce-72a2-43c7-f7c3-2d8149b5b5ce"
      },
      "execution_count": null,
      "outputs": [
        {
          "output_type": "stream",
          "name": "stdout",
          "text": [
            "                HELLO WORLD\n"
          ]
        }
      ]
    },
    {
      "cell_type": "code",
      "source": [
        "temp_str = \"i could eat apples all day, thats all i can say\"\n",
        "print(temp_str.split(','))"
      ],
      "metadata": {
        "colab": {
          "base_uri": "https://localhost:8080/"
        },
        "id": "Daz8wM42l2xX",
        "outputId": "6604ba3d-5175-4abe-d5bb-1f81b7dfa77f"
      },
      "execution_count": null,
      "outputs": [
        {
          "output_type": "stream",
          "name": "stdout",
          "text": [
            "['i could eat apples all day', ' thats all i can say']\n"
          ]
        }
      ]
    },
    {
      "cell_type": "code",
      "source": [
        "temp_str = \"i could eat apples all day, thats all i can say\"\n",
        "print(temp_str.startswith('could',2))\n",
        "print(temp_str.startswith('i'))"
      ],
      "metadata": {
        "colab": {
          "base_uri": "https://localhost:8080/"
        },
        "id": "GdxHvVh8lp5w",
        "outputId": "1c1f90e8-8d9b-47f2-c27d-41941aecb564"
      },
      "execution_count": null,
      "outputs": [
        {
          "output_type": "stream",
          "name": "stdout",
          "text": [
            "True\n",
            "True\n"
          ]
        }
      ]
    },
    {
      "cell_type": "code",
      "source": [
        "#removes white spaces and tabs on both side of the string\n",
        "temp_str= \"                HELLO WORLD     \"\n",
        "print(temp_str.strip())"
      ],
      "metadata": {
        "colab": {
          "base_uri": "https://localhost:8080/"
        },
        "id": "eoZs4dZJlppp",
        "outputId": "017e2118-f7fc-4f20-ee54-a74ef83b4698"
      },
      "execution_count": null,
      "outputs": [
        {
          "output_type": "stream",
          "name": "stdout",
          "text": [
            "HELLO WORLD\n"
          ]
        }
      ]
    },
    {
      "cell_type": "code",
      "source": [
        "temp_str = \"i could eat apples all day, thats all i can say\"\n",
        "temp_str.swapcase()"
      ],
      "metadata": {
        "colab": {
          "base_uri": "https://localhost:8080/",
          "height": 36
        },
        "id": "HX8G0dnPjrBN",
        "outputId": "4a335f19-df0a-4d9c-b6b6-9ba998000e1c"
      },
      "execution_count": null,
      "outputs": [
        {
          "output_type": "execute_result",
          "data": {
            "text/plain": [
              "'I COULD EAT APPLES ALL DAY, THATS ALL I CAN SAY'"
            ],
            "application/vnd.google.colaboratory.intrinsic+json": {
              "type": "string"
            }
          },
          "metadata": {},
          "execution_count": 31
        }
      ]
    },
    {
      "cell_type": "code",
      "source": [
        "temp_str = {\"brand\":\"Ford\", \"model\": \"Mustang\", \"year\":1964, \"year\":2004}\n",
        "print(temp_str[\"brand\"])\n",
        "print(temp_str[\"year\"])"
      ],
      "metadata": {
        "colab": {
          "base_uri": "https://localhost:8080/"
        },
        "id": "kI1q_p9Wnq4y",
        "outputId": "734068d8-348f-4d83-e8f3-06636c11172d"
      },
      "execution_count": null,
      "outputs": [
        {
          "output_type": "stream",
          "name": "stdout",
          "text": [
            "Ford\n",
            "2004\n"
          ]
        }
      ]
    },
    {
      "cell_type": "code",
      "source": [
        "thisdict = dict(name= \"John\", age = 32, country = \"Englad\" )\n",
        "print(thisdict)"
      ],
      "metadata": {
        "colab": {
          "base_uri": "https://localhost:8080/"
        },
        "id": "j-dlA6uwqrB5",
        "outputId": "d9eb7660-a304-4cef-84fc-ef80d4bbb0a7"
      },
      "execution_count": null,
      "outputs": [
        {
          "output_type": "stream",
          "name": "stdout",
          "text": [
            "{'name': 'John', 'age': 32, 'country': 'Englad'}\n"
          ]
        }
      ]
    },
    {
      "cell_type": "code",
      "source": [
        "#Assci code value of S is 83 defaultly we replace it with 80 which is P\n",
        "temp_dict={83:80,72:77, 83:76}\n",
        "temp_str=\"Hello Sam! Shhhh\"\n",
        "temp_str.translate(temp_dict)"
      ],
      "metadata": {
        "id": "cUjeo34aqq3E",
        "colab": {
          "base_uri": "https://localhost:8080/",
          "height": 36
        },
        "outputId": "66a8cf99-ea9e-40a6-b3b5-e3ff8da66269"
      },
      "execution_count": null,
      "outputs": [
        {
          "output_type": "execute_result",
          "data": {
            "text/plain": [
              "'Mello Lam! Lhhhh'"
            ],
            "application/vnd.google.colaboratory.intrinsic+json": {
              "type": "string"
            }
          },
          "metadata": {},
          "execution_count": 1
        }
      ]
    },
    {
      "cell_type": "code",
      "source": [
        "temp_str= \"i could eat APPLES all day, thats all i can say\"\n",
        "temp_str.upper()"
      ],
      "metadata": {
        "colab": {
          "base_uri": "https://localhost:8080/",
          "height": 36
        },
        "id": "QlrJUP_PRe8I",
        "outputId": "7a61ecf3-7630-436d-8936-c9f1ac556bc2"
      },
      "execution_count": null,
      "outputs": [
        {
          "output_type": "execute_result",
          "data": {
            "text/plain": [
              "'I COULD EAT APPLES ALL DAY, THATS ALL I CAN SAY'"
            ],
            "application/vnd.google.colaboratory.intrinsic+json": {
              "type": "string"
            }
          },
          "metadata": {},
          "execution_count": 2
        }
      ]
    },
    {
      "cell_type": "code",
      "source": [
        "temp_str= \"i could eat APPLES all day, thats all i can say\"\n",
        "print(len(temp_str))\n",
        "print(temp_str.zfill(10))\n",
        "print(temp_str.zfill(50))"
      ],
      "metadata": {
        "colab": {
          "base_uri": "https://localhost:8080/"
        },
        "id": "yLRBVWHLReuU",
        "outputId": "2fb33b45-1211-4b3b-c52e-f48b227e6699"
      },
      "execution_count": null,
      "outputs": [
        {
          "output_type": "stream",
          "name": "stdout",
          "text": [
            "47\n",
            "i could eat APPLES all day, thats all i can say\n",
            "000i could eat APPLES all day, thats all i can say\n"
          ]
        }
      ]
    }
  ]
}
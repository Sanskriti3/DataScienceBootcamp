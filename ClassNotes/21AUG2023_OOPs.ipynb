{
  "nbformat": 4,
  "nbformat_minor": 0,
  "metadata": {
    "colab": {
      "provenance": [],
      "authorship_tag": "ABX9TyOZzhbU+zID41mjORq/3W4f",
      "include_colab_link": true
    },
    "kernelspec": {
      "name": "python3",
      "display_name": "Python 3"
    },
    "language_info": {
      "name": "python"
    }
  },
  "cells": [
    {
      "cell_type": "markdown",
      "metadata": {
        "id": "view-in-github",
        "colab_type": "text"
      },
      "source": [
        "<a href=\"https://colab.research.google.com/github/Sanskriti3/DataScienceBootcamp/blob/main/ClassNotes/21AUG2023_OOPs.ipynb\" target=\"_parent\"><img src=\"https://colab.research.google.com/assets/colab-badge.svg\" alt=\"Open In Colab\"/></a>"
      ]
    },
    {
      "cell_type": "code",
      "execution_count": null,
      "metadata": {
        "colab": {
          "base_uri": "https://localhost:8080/"
        },
        "id": "Hipbocrsk4Ic",
        "outputId": "46a475e5-8000-4fa4-8fbe-c1f51a5ff4ed"
      },
      "outputs": [
        {
          "output_type": "stream",
          "name": "stdout",
          "text": [
            "<class 'float'>\n"
          ]
        }
      ],
      "source": [
        "flt1 = 3.1415\n",
        "print(type(flt1))"
      ]
    },
    {
      "cell_type": "code",
      "source": [
        "class university_student:\n",
        "  def student_info():\n"
      ],
      "metadata": {
        "id": "IWQDvLr4lFC9"
      },
      "execution_count": null,
      "outputs": []
    },
    {
      "cell_type": "code",
      "source": [
        "obj1 = university_student()\n",
        "obj1.student_info()"
      ],
      "metadata": {
        "id": "smgh8GudlFYK"
      },
      "execution_count": null,
      "outputs": []
    },
    {
      "cell_type": "code",
      "source": [
        "class university_student:\n",
        "  def __init__(self, fname, mname, lname, gender, email, contact):\n",
        "    pass"
      ],
      "metadata": {
        "id": "U2NhoJoUou_i"
      },
      "execution_count": null,
      "outputs": []
    },
    {
      "cell_type": "code",
      "source": [
        "obj1 = university_student('kin', 'Zen', \"Anto\", 'm', 'kin.anto@gmail.com', 9876)"
      ],
      "metadata": {
        "id": "PWU2p0rtqjD-"
      },
      "execution_count": null,
      "outputs": []
    },
    {
      "cell_type": "code",
      "source": [
        "print(type(obj1))"
      ],
      "metadata": {
        "colab": {
          "base_uri": "https://localhost:8080/"
        },
        "id": "IsMj7lnXqjBx",
        "outputId": "10b94561-74da-437d-bb53-0039344b0e8e"
      },
      "execution_count": null,
      "outputs": [
        {
          "output_type": "stream",
          "name": "stdout",
          "text": [
            "<class '__main__.university_student'>\n"
          ]
        }
      ]
    },
    {
      "cell_type": "code",
      "source": [
        "class university_student:\n",
        "  def __init__(self, fname, mname, lname, gender, email, contact):\n",
        "    self.fname= fname\n",
        "    self.mname= mname\n",
        "    self.lname= lname\n",
        "    self.gender= gender\n",
        "    self.email= email\n",
        "    self.contact = contact\n",
        "    print(self.fname, self.mname, self.lname, self.gender, self.email, self.contact)\n"
      ],
      "metadata": {
        "id": "W1A86Btkqi_c"
      },
      "execution_count": null,
      "outputs": []
    },
    {
      "cell_type": "code",
      "source": [
        "obj1 = university_student('kin', 'Zen', \"Anto\", 'm', 'kin.anto@gmail.com', 9876)"
      ],
      "metadata": {
        "colab": {
          "base_uri": "https://localhost:8080/"
        },
        "id": "DrK2JsBdsRft",
        "outputId": "99cc94e3-8213-4075-dad9-ed2a5d3d60e8"
      },
      "execution_count": null,
      "outputs": [
        {
          "output_type": "stream",
          "name": "stdout",
          "text": [
            "kin Zen Anto m kin.anto@gmail.com 9876\n"
          ]
        }
      ]
    },
    {
      "cell_type": "code",
      "source": [
        "class toyota:\n",
        "  def __init__(self, model, year):\n",
        "    self.model = model\n",
        "    self.year= year\n",
        "    print(self.model, self.year)"
      ],
      "metadata": {
        "id": "APdpaZAKsY3q"
      },
      "execution_count": null,
      "outputs": []
    },
    {
      "cell_type": "code",
      "source": [
        "obj_car = toyota(\"Corolla\", 2013)"
      ],
      "metadata": {
        "colab": {
          "base_uri": "https://localhost:8080/"
        },
        "id": "GekdYbObsrsN",
        "outputId": "331e2d5c-0927-438c-ae02-71ad89e5e5c5"
      },
      "execution_count": null,
      "outputs": [
        {
          "output_type": "stream",
          "name": "stdout",
          "text": [
            "Corolla 2013\n"
          ]
        }
      ]
    },
    {
      "cell_type": "code",
      "source": [
        "class university_student:\n",
        "  def __init__(self, fname, mname, lname, gender, email, contact):\n",
        "    self.fname= fname\n",
        "    self.mname= mname\n",
        "    self.lname= lname\n",
        "    self.gender= gender\n",
        "    self.email= email\n",
        "    self.contact = contact\n",
        "\n",
        "  def stud_detail(self):\n",
        "    print(self.fname, self.mname, self.lname, self.gender, self.email, self.contact)"
      ],
      "metadata": {
        "id": "rQoPd5knwak2"
      },
      "execution_count": null,
      "outputs": []
    },
    {
      "cell_type": "code",
      "source": [
        "obj1 = university_student('kin', 'Zen', \"Anto\", 'm', 'kin.anto@gmail.com', 9876)\n",
        "obj1.stud_detail()"
      ],
      "metadata": {
        "colab": {
          "base_uri": "https://localhost:8080/"
        },
        "id": "8Aco_Sx0wvy6",
        "outputId": "27b14bc7-83a9-4748-8235-d6642fef9bfa"
      },
      "execution_count": null,
      "outputs": [
        {
          "output_type": "stream",
          "name": "stdout",
          "text": [
            "kin Zen Anto m kin.anto@gmail.com 9876\n"
          ]
        }
      ]
    },
    {
      "cell_type": "code",
      "source": [
        "class toyota:\n",
        "  def __init__(self,model, year):\n",
        "    self.model = model\n",
        "    self.year= year\n",
        "    print(self.model, self.year)\n"
      ],
      "metadata": {
        "id": "R33ph0d-zxl8"
      },
      "execution_count": null,
      "outputs": []
    },
    {
      "cell_type": "code",
      "source": [
        "obj_car = toyota(\"300\", 89)"
      ],
      "metadata": {
        "colab": {
          "base_uri": "https://localhost:8080/"
        },
        "id": "atKeUlOu0mxA",
        "outputId": "bc80808d-d1af-4d28-edbd-009dde0af0d1"
      },
      "execution_count": null,
      "outputs": [
        {
          "output_type": "stream",
          "name": "stdout",
          "text": [
            "300 89\n"
          ]
        }
      ]
    },
    {
      "cell_type": "code",
      "source": [
        "class car:\n",
        "  def __init__(self, name, model, fuel, cc, cylinders):\n",
        "    self.name= name\n",
        "    self.model= model\n",
        "    self.fuel = fuel\n",
        "    self.cc = cc\n",
        "    self.cylinders= cylinders\n",
        "\n",
        "  def car_details(self):\n",
        "    print(self.name, self.model, self.fuel, self.cc, self.cylinders)"
      ],
      "metadata": {
        "id": "zbefU2bg2Cj2"
      },
      "execution_count": null,
      "outputs": []
    },
    {
      "cell_type": "code",
      "source": [
        "obj1= car(\"Audi003\", \"alpha\", \"electric\", 250, 12 )\n",
        "obj1.car_details()"
      ],
      "metadata": {
        "colab": {
          "base_uri": "https://localhost:8080/"
        },
        "id": "KoE1EBZC25Nd",
        "outputId": "d6e3aafa-a2cf-4b74-a185-60b892c240d3"
      },
      "execution_count": null,
      "outputs": [
        {
          "output_type": "stream",
          "name": "stdout",
          "text": [
            "Audi003 alpha electric 250 12\n"
          ]
        }
      ]
    },
    {
      "cell_type": "markdown",
      "source": [
        "![animal kingdom classification.png](data:image/png;base64,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)"
      ],
      "metadata": {
        "id": "VcD9qjrD9rj7"
      }
    },
    {
      "cell_type": "code",
      "source": [
        "#ggrandparents\n",
        "class animal_kingdom:\n",
        "  pass\n",
        "#grand parents\n",
        "class vertebrates(animal_kingdom):\n",
        "  pass\n",
        "class invertebrates(animal_kingdom):\n",
        "  pass\n",
        "#parent\n",
        "class amphibian(vertebrates):\n",
        "  pass\n",
        "class reptile(vertebrates):\n",
        "  pass\n",
        "class avian(vertebrates):\n",
        "  pass\n",
        "class mammal(vertebrates):\n",
        "  pass\n",
        "class fishes(vertebrates):\n",
        "  pass\n",
        "#child\n",
        "class dog(mammal):\n",
        "  pass\n",
        "class cat(mammal):\n",
        "  pass\n",
        "class cow(mammal):\n",
        "  pass\n"
      ],
      "metadata": {
        "id": "UY3exuMn24n9"
      },
      "execution_count": null,
      "outputs": []
    },
    {
      "cell_type": "markdown",
      "source": [
        "Tuesday Aug 22, 2023"
      ],
      "metadata": {
        "id": "I-msXQ4ntCSG"
      }
    },
    {
      "cell_type": "code",
      "source": [
        "class person:\n",
        "  def __init__(self,fname,lname):\n",
        "    self.firstname= fname\n",
        "    self.lastname = lname\n",
        "\n",
        "  def printname(self):\n",
        "    print(self.firstname,' ', self.lastname)"
      ],
      "metadata": {
        "id": "R0WJMZvAtG1W"
      },
      "execution_count": null,
      "outputs": []
    },
    {
      "cell_type": "code",
      "source": [
        "obj1 = person('Sanskriti', 'Parajuli')"
      ],
      "metadata": {
        "id": "s8ZMjnk4tmPC"
      },
      "execution_count": null,
      "outputs": []
    },
    {
      "cell_type": "code",
      "source": [
        "obj1.printname()"
      ],
      "metadata": {
        "colab": {
          "base_uri": "https://localhost:8080/"
        },
        "id": "0Dh0eWnXtuqz",
        "outputId": "874662d2-beb8-40cc-d127-46a193ab83ee"
      },
      "execution_count": null,
      "outputs": [
        {
          "output_type": "stream",
          "name": "stdout",
          "text": [
            "Sanskriti   Parajuli\n"
          ]
        }
      ]
    },
    {
      "cell_type": "code",
      "source": [
        "#creating child class\n",
        "\n",
        "class person:\n",
        "  def __init__(self,fname,lname):\n",
        "    self.firstname= fname\n",
        "    self.lastname = lname\n",
        "\n",
        "  def printname(self):\n",
        "    print(self.firstname,' ', self.lastname)"
      ],
      "metadata": {
        "id": "Y99EDTpct47d"
      },
      "execution_count": null,
      "outputs": []
    },
    {
      "cell_type": "code",
      "source": [
        "class childclass(person):\n",
        "  pass"
      ],
      "metadata": {
        "id": "T6KqLoXruB3B"
      },
      "execution_count": null,
      "outputs": []
    },
    {
      "cell_type": "code",
      "source": [
        "obj2 = childclass('Sanskriti', 'parajuli')"
      ],
      "metadata": {
        "id": "NhX7QVDyuHxh"
      },
      "execution_count": null,
      "outputs": []
    },
    {
      "cell_type": "code",
      "source": [
        "obj2.printname()"
      ],
      "metadata": {
        "colab": {
          "base_uri": "https://localhost:8080/"
        },
        "id": "KM26s_A9uRPm",
        "outputId": "21ff9614-37a7-4d10-d819-fa4d47a19d5a"
      },
      "execution_count": null,
      "outputs": [
        {
          "output_type": "stream",
          "name": "stdout",
          "text": [
            "Sanskriti   parajuli\n"
          ]
        }
      ]
    },
    {
      "cell_type": "code",
      "source": [
        "class person:\n",
        "  def __init__(self,fname,lname):\n",
        "    self.firstname= fname\n",
        "    self.lastname = lname\n",
        "\n",
        "  def printname(self):\n",
        "    print(\"parent class \" ,self.firstname,' ', self.lastname)"
      ],
      "metadata": {
        "id": "C_beecTnw2Ng"
      },
      "execution_count": null,
      "outputs": []
    },
    {
      "cell_type": "code",
      "source": [
        "class childclass(person):\n",
        "  def __init__(self,fname,lname):\n",
        "    self.firstname = fname\n",
        "    self.lastname = lname\n",
        "\n",
        "  def printname(self):\n",
        "    print(\"class childclass(person): \", self.firstname, self.lastname)"
      ],
      "metadata": {
        "id": "AEZ9Of6hw2Hk"
      },
      "execution_count": null,
      "outputs": []
    },
    {
      "cell_type": "code",
      "source": [
        "obj1 = childclass('Sanskriti', 'Parajuli')"
      ],
      "metadata": {
        "id": "nxyiC_Pyw2DK"
      },
      "execution_count": null,
      "outputs": []
    },
    {
      "cell_type": "code",
      "source": [
        "obj1.printname()"
      ],
      "metadata": {
        "colab": {
          "base_uri": "https://localhost:8080/"
        },
        "id": "wJcBgTb_w1-G",
        "outputId": "96214c12-8684-4858-ed60-0450b7b26363"
      },
      "execution_count": null,
      "outputs": [
        {
          "output_type": "stream",
          "name": "stdout",
          "text": [
            "class childclass(person):  Sanskriti Parajuli\n"
          ]
        }
      ]
    },
    {
      "cell_type": "code",
      "source": [
        "class person:\n",
        "  def __init__(self,fname,lname):\n",
        "    self.firstname= fname\n",
        "    self.lastname = lname\n",
        "\n",
        "  def printname(self):\n",
        "    print(\"parent class person: \" ,self.firstname,' ', self.lastname)"
      ],
      "metadata": {
        "id": "Ge7s-ZIFx84u"
      },
      "execution_count": null,
      "outputs": []
    },
    {
      "cell_type": "code",
      "source": [
        "class childclass(person):\n",
        "  def __init__(self,fname,lname):\n",
        "\n",
        "    self.firstname = fname\n",
        "    self.lastname= lname\n"
      ],
      "metadata": {
        "id": "pJlzqW34x81O"
      },
      "execution_count": null,
      "outputs": []
    },
    {
      "cell_type": "code",
      "source": [
        "obj1= childclass('Sanskriti', 'Parajuli')"
      ],
      "metadata": {
        "id": "uXQEtKTux8xi"
      },
      "execution_count": null,
      "outputs": []
    },
    {
      "cell_type": "code",
      "source": [
        "obj1.printname()"
      ],
      "metadata": {
        "colab": {
          "base_uri": "https://localhost:8080/"
        },
        "id": "WG3xWsEJx8uE",
        "outputId": "5d369ff8-ce9b-4cc6-ffed-0569baa4d496"
      },
      "execution_count": null,
      "outputs": [
        {
          "output_type": "stream",
          "name": "stdout",
          "text": [
            "parent class person:  Sanskriti   Parajuli\n"
          ]
        }
      ]
    },
    {
      "cell_type": "code",
      "source": [
        "class car:\n",
        "  def __init__(self,model,year):\n",
        "    self.model= model\n",
        "    self.year = year\n",
        "\n",
        "\n",
        "class toyota(car):\n",
        "  def __init__(self,model,year,cc):\n",
        "    self.model = model\n",
        "    self.year=year\n",
        "    self.cc=cc\n",
        "\n",
        "  def printcar(self):\n",
        "    print(\"class toyota: \", self.model, ' ', self.year,' ', self.cc)\n",
        "obj1 = toyota('corolla', 2012, 120)\n",
        "obj1.printcar()"
      ],
      "metadata": {
        "colab": {
          "base_uri": "https://localhost:8080/"
        },
        "id": "QABSNKRsx8rO",
        "outputId": "33b4d2e6-c672-4824-f509-f72e421d33bf"
      },
      "execution_count": null,
      "outputs": [
        {
          "output_type": "stream",
          "name": "stdout",
          "text": [
            "class toyota:  corolla   2012   120\n"
          ]
        }
      ]
    },
    {
      "cell_type": "code",
      "source": [
        "#performing operations\n",
        "class person:\n",
        "  def __init__(self,fname,lname):\n",
        "    self.firstname= fname\n",
        "    self.lastname = lname\n",
        "\n",
        "  def printname(self):\n",
        "    print(\"parent class person: \" ,self.firstname,' ', self.lastname)"
      ],
      "metadata": {
        "id": "wemw1NCyw145"
      },
      "execution_count": null,
      "outputs": []
    },
    {
      "cell_type": "code",
      "source": [
        "class Student(person):\n",
        "  def __init__(self, fname, lname):\n",
        "    super().__init__(fname,lname)\n"
      ],
      "metadata": {
        "id": "cNuLPNsS-tt2"
      },
      "execution_count": null,
      "outputs": []
    },
    {
      "cell_type": "code",
      "source": [
        "obj1 = Student('Sanskriti', 'Parajuli')"
      ],
      "metadata": {
        "id": "blkc-v4N-tIj"
      },
      "execution_count": null,
      "outputs": []
    },
    {
      "cell_type": "code",
      "source": [
        "obj1.printname()"
      ],
      "metadata": {
        "colab": {
          "base_uri": "https://localhost:8080/"
        },
        "id": "kZ2HdMOq-tER",
        "outputId": "aefb5222-3cb2-44a9-a9fb-471c9fae813f"
      },
      "execution_count": null,
      "outputs": [
        {
          "output_type": "stream",
          "name": "stdout",
          "text": [
            "parent class person:  Sanskriti   Parajuli\n"
          ]
        }
      ]
    },
    {
      "cell_type": "code",
      "source": [
        "class car:\n",
        "  def __init__(self, name, model):\n",
        "    self.name = name\n",
        "    self.model = model\n"
      ],
      "metadata": {
        "id": "_44OYDfQAcfW"
      },
      "execution_count": null,
      "outputs": []
    },
    {
      "cell_type": "code",
      "source": [
        "class audi(car):\n",
        "  def __init__(self,name,model,make):\n",
        "    super().__init__(name,model)\n",
        "    self.make = make\n",
        "  def print_details(self):\n",
        "    print('audi car: ', self.name, self.model,self.make)"
      ],
      "metadata": {
        "id": "KDroNE35AcMw"
      },
      "execution_count": null,
      "outputs": []
    },
    {
      "cell_type": "code",
      "source": [
        "obj1 = audi('audi500', 'z', 1978)\n",
        "obj1.print_details()"
      ],
      "metadata": {
        "colab": {
          "base_uri": "https://localhost:8080/"
        },
        "id": "XDx14fIHAbk3",
        "outputId": "582aa63a-a7bc-44db-f137-6a3e74ab0cd8"
      },
      "execution_count": null,
      "outputs": [
        {
          "output_type": "stream",
          "name": "stdout",
          "text": [
            "audi car:  audi500 z 1978\n"
          ]
        }
      ]
    },
    {
      "cell_type": "code",
      "source": [
        "class Animal:\n",
        "  def __init__(self,name,breed,age):\n",
        "    self.name = name\n",
        "    self.breed = breed\n",
        "    self.age = age"
      ],
      "metadata": {
        "id": "0QsefcuhC9nP"
      },
      "execution_count": null,
      "outputs": []
    },
    {
      "cell_type": "code",
      "source": [
        "class Dog(Animal):\n",
        "  def __init__(self,name,breed,age,weight,fur_color):\n",
        "    super().__init__(name,breed,age)\n",
        "    self.weight = weight\n",
        "    self.fur_color = fur_color\n",
        "\n",
        "  def print_details(self):\n",
        "    print('My Dog: ', self.name, self.breed, self.age, self.weight, self.fur_color)"
      ],
      "metadata": {
        "id": "HPsOgIFnC9PM"
      },
      "execution_count": null,
      "outputs": []
    },
    {
      "cell_type": "code",
      "source": [
        "obj1 = Dog('Pakkun', 'Golden Retreiver', '10 weeks', 25, 'Cream')\n",
        "obj2 = Dog('Hero', 'Husky', '2 years', 55, 'Black')\n",
        "\n",
        "obj1.print_details()\n",
        "obj2.print_details()"
      ],
      "metadata": {
        "colab": {
          "base_uri": "https://localhost:8080/"
        },
        "id": "-DzylyU3Emyh",
        "outputId": "d67e1ad7-004d-4626-c8c9-19f4b3acaf6c"
      },
      "execution_count": null,
      "outputs": [
        {
          "output_type": "stream",
          "name": "stdout",
          "text": [
            "My Dog:  Pakkun Golden Retreiver 10 weeks 25 Cream\n",
            "My Dog:  Hero Husky 2 years 55 Black\n"
          ]
        }
      ]
    },
    {
      "cell_type": "markdown",
      "source": [
        "8/23/2023 wednesday"
      ],
      "metadata": {
        "id": "v-da4Z6n3b0s"
      }
    },
    {
      "cell_type": "code",
      "source": [
        "#introduction to inheritance\n",
        "\n",
        "#multiple_inheritance\n",
        "\n",
        "class mother:\n",
        "  def __init__(self):\n",
        "    pass\n",
        "class father:\n",
        "  def __init__(self):\n",
        "    pass\n",
        "class daughter(mother,father):\n",
        "  def __init__(self):\n",
        "    pass\n",
        "\n",
        "class son(mother,father):\n",
        "  def __init__(self):\n",
        "    pass"
      ],
      "metadata": {
        "id": "BI5vZq9SEmcd"
      },
      "execution_count": null,
      "outputs": []
    },
    {
      "cell_type": "code",
      "source": [
        "#implementation\n",
        "\n",
        "class roots:\n",
        "  def __init__(self,root_type):\n",
        "    self.root_type = root_type\n",
        "\n",
        "\n",
        "class shoot:\n",
        "  def __init__(self,shoot_type):\n",
        "    self.shoot_type = shoot_type\n",
        "\n",
        "\n",
        "class herb(roots, shoot):\n",
        "  def __init__(self,root_type,shoot_type,plant_height):\n",
        "    self.root_type = root_type\n",
        "    self.shoot_type = shoot_type\n",
        "    self.plant_height = plant_height\n",
        "\n",
        "  def print_value_herb(self):\n",
        "    print(\"herb: \" ,self.root_type, self.shoot_type, self.plant_height)\n",
        "\n",
        "class shurb(roots, shoot):\n",
        "  def __init__(self,root_type,shoot_type,plant_height):\n",
        "    self.root_type = root_type\n",
        "    self.shoot_type = shoot_type\n",
        "    self.plant_height = plant_height\n",
        "\n",
        "  def print_value(self):\n",
        "    print(\"Shurb: \",self.root_type, self.shoot_type, self.plant_height)\n",
        "\n"
      ],
      "metadata": {
        "id": "zyQ7OzUS5sQa"
      },
      "execution_count": null,
      "outputs": []
    },
    {
      "cell_type": "code",
      "source": [
        "obj1 = herb('tap root', 'annual', 12.5)\n",
        "obj1.print_value_herb()"
      ],
      "metadata": {
        "colab": {
          "base_uri": "https://localhost:8080/"
        },
        "id": "h016QKcN-xuM",
        "outputId": "9f794ca5-ffa1-480c-faae-49bb45adc44e"
      },
      "execution_count": null,
      "outputs": [
        {
          "output_type": "stream",
          "name": "stdout",
          "text": [
            "herb:  tap root annual 12.5\n"
          ]
        }
      ]
    },
    {
      "cell_type": "code",
      "source": [
        "class a:\n",
        "  var_a1 = 'This ia my first print statement inside class a . It is class variable'\n",
        "  def __init__(self):\n",
        "    self.var_a2 = '2nd print statement inside function __init__ of class a'\n",
        "    self.var_a1 = \"Instance variable in class a\"\n",
        "    self.var_tmp1 = \"This is var_tmp1 inside class a\"\n",
        "\n",
        "class b(a):\n",
        "  var_b1 = \"this is my third print statement inside class b \"\n",
        "  def __init__(self):\n",
        "\n",
        "    self.var_b2 = \"This is my fouth print statement inside function __init__ of class b\"\n",
        "    self.var_a1 = \"Instance variable in class b\"\n",
        "    self.var_tmp1 = \"This is var_tmp1 inside class b\"\n",
        "    super().__init__()"
      ],
      "metadata": {
        "id": "xc9kMRsIAGLb"
      },
      "execution_count": null,
      "outputs": []
    },
    {
      "cell_type": "code",
      "source": [
        "obj_a = a()\n",
        "obj_b = b()\n",
        "\n",
        "\n",
        "print(obj_a.var_a1)\n",
        "print(obj_a.var_tmp1)\n",
        "print(obj_b.var_a1)\n",
        "print(obj_b.var_a2)\n",
        "print(obj_b.var_b1)\n",
        "print(obj_b.var_b2)\n",
        "print(obj_b.var_tmp1)"
      ],
      "metadata": {
        "colab": {
          "base_uri": "https://localhost:8080/"
        },
        "id": "3ReLVIrKCWi2",
        "outputId": "4f5d86b8-5d6d-41f9-ea77-5fbf27e3f1da"
      },
      "execution_count": null,
      "outputs": [
        {
          "output_type": "stream",
          "name": "stdout",
          "text": [
            "Instance variable in class a\n",
            "This is var_tmp1 inside class a\n",
            "Instance variable in class a\n",
            "2nd print statement inside function __init__ of class a\n",
            "this is my third print statement inside class b \n",
            "This is my fouth print statement inside function __init__ of class b\n",
            "This is var_tmp1 inside class a\n"
          ]
        }
      ]
    },
    {
      "cell_type": "code",
      "source": [
        "class vehical:\n",
        "  wheels = 4\n",
        "  def __init__(self):\n",
        "    self.fuel = 'Petrol'\n",
        "    self.wheels = 12\n",
        "    self.seats = 2\n",
        "\n",
        "class car(vehical):\n",
        "  brand = \"BMW \"\n",
        "  def __init__(self):\n",
        "\n",
        "    self.color = \"yellow\"\n",
        "    self.wheels = 8\n",
        "    self.seats = 5\n",
        "    super().__init__()"
      ],
      "metadata": {
        "id": "7Lpo0XdhOfzL"
      },
      "execution_count": null,
      "outputs": []
    },
    {
      "cell_type": "code",
      "source": [
        "obj_vehical = vehical()\n",
        "obj_car = car()\n",
        "\n",
        "\n",
        "print(obj_vehical.wheels)\n",
        "print(obj_vehical.seats)\n",
        "print(obj_car.wheels)\n",
        "print(obj_car.fuel)\n",
        "print(obj_car.brand)\n",
        "print(obj_car.color)\n",
        "print(obj_car.seats)"
      ],
      "metadata": {
        "colab": {
          "base_uri": "https://localhost:8080/"
        },
        "id": "Uud-pTpjPl51",
        "outputId": "95b142cf-b461-4689-f91b-04aa84685dd4"
      },
      "execution_count": null,
      "outputs": [
        {
          "output_type": "stream",
          "name": "stdout",
          "text": [
            "12\n",
            "2\n",
            "12\n",
            "Petrol\n",
            "BMW \n",
            "yellow\n",
            "2\n"
          ]
        }
      ]
    },
    {
      "cell_type": "markdown",
      "source": [
        "aug 24, 2023 thursday"
      ],
      "metadata": {
        "id": "t5ATc4v5AOjF"
      }
    },
    {
      "cell_type": "markdown",
      "source": [
        "topics for today:\n",
        "1. Overloading\n",
        "2. Over ridding\n",
        "3. Operator over loading\n",
        "4. polymorphism (multiple forms )\n",
        "5. Encapsulation"
      ],
      "metadata": {
        "id": "XokidFPbAhVs"
      }
    },
    {
      "cell_type": "code",
      "source": [
        "print(10+12)"
      ],
      "metadata": {
        "colab": {
          "base_uri": "https://localhost:8080/"
        },
        "id": "PMvk0B-OAVYo",
        "outputId": "78852c5c-2796-4f4f-d7cb-ba7a6a24c181"
      },
      "execution_count": null,
      "outputs": [
        {
          "output_type": "stream",
          "name": "stdout",
          "text": [
            "22\n"
          ]
        }
      ]
    },
    {
      "cell_type": "code",
      "source": [
        "print(3.145+3.145)"
      ],
      "metadata": {
        "colab": {
          "base_uri": "https://localhost:8080/"
        },
        "id": "K-OhS7J7CF1Y",
        "outputId": "5d8fe4cf-bdf8-43fe-8a16-650b870cffcb"
      },
      "execution_count": null,
      "outputs": [
        {
          "output_type": "stream",
          "name": "stdout",
          "text": [
            "6.29\n"
          ]
        }
      ]
    },
    {
      "cell_type": "code",
      "source": [
        "print('python'+ 'programming')"
      ],
      "metadata": {
        "colab": {
          "base_uri": "https://localhost:8080/"
        },
        "id": "IMl0YhkdCDnW",
        "outputId": "d3ef8043-e9ca-489e-ae7c-56846836eedc"
      },
      "execution_count": null,
      "outputs": [
        {
          "output_type": "stream",
          "name": "stdout",
          "text": [
            "pythonprogramming\n"
          ]
        }
      ]
    },
    {
      "cell_type": "code",
      "source": [
        "print([12,23,34,45]+[56,67,78,89])"
      ],
      "metadata": {
        "colab": {
          "base_uri": "https://localhost:8080/"
        },
        "id": "n9RZLuJuCDfj",
        "outputId": "2916e479-50ee-43cd-9756-255eb5f38b53"
      },
      "execution_count": null,
      "outputs": [
        {
          "output_type": "stream",
          "name": "stdout",
          "text": [
            "[12, 23, 34, 45, 56, 67, 78, 89]\n"
          ]
        }
      ]
    },
    {
      "cell_type": "code",
      "source": [
        "l = 'python programming'\n",
        "\n",
        "print(len(l))\n",
        "\n",
        "l= [12,23,34,45,56,67,78,89,90]\n",
        "\n",
        "print(len(l))\n",
        "\n",
        "l=(11,22,33,44,55,66,77,88,99,110)\n",
        "\n",
        "print(len(l))\n",
        "\n",
        "l = {'a':'apple',\n",
        "     'b':'banana',\n",
        "     'c':'cherries'}\n",
        "print(len(l))"
      ],
      "metadata": {
        "colab": {
          "base_uri": "https://localhost:8080/"
        },
        "id": "Ijhjr1lqCDYE",
        "outputId": "1c947450-19e6-4683-e42a-3da276d2bdef"
      },
      "execution_count": null,
      "outputs": [
        {
          "output_type": "stream",
          "name": "stdout",
          "text": [
            "18\n",
            "9\n",
            "10\n",
            "3\n"
          ]
        }
      ]
    },
    {
      "cell_type": "code",
      "source": [
        "class person:\n",
        "  def __init__(self,fname,mname,lname):\n",
        "    pass\n",
        "  def print_details(self):\n",
        "    print(self.fname, self.mname, self.lname)\n",
        "\n",
        "class student(person):\n",
        "  def __init__(self,fname,mname,lname):\n",
        "    pass\n",
        "  def print_details(self):\n",
        "    print(self.fname,self.mname,self.lname)"
      ],
      "metadata": {
        "id": "qgF5m1UICDQs"
      },
      "execution_count": null,
      "outputs": []
    },
    {
      "cell_type": "code",
      "source": [
        "#polymorphism example\n",
        "class Car:\n",
        "  def __init__(self, brand, model):\n",
        "    self.brand = brand\n",
        "    self.model = model\n",
        "\n",
        "  def move(self):\n",
        "    print(\"Drive!\")\n",
        "\n",
        "class Boat:\n",
        "  def __init__(self, brand, model):\n",
        "    self.brand = brand\n",
        "    self.model = model\n",
        "\n",
        "  def move(self):\n",
        "    print(\"Sail!\")\n",
        "\n",
        "class Plane:\n",
        "  def __init__(self, brand, model):\n",
        "    self.brand = brand\n",
        "    self.model = model\n",
        "\n",
        "  def move(self):\n",
        "    print(\"Fly!\")\n",
        "\n",
        "car1 = Car(\"Ford\", \"Mustang\")       #Create a Car class\n",
        "boat1 = Boat(\"Ibiza\", \"Touring 20\") #Create a Boat class\n",
        "plane1 = Plane(\"Boeing\", \"747\")     #Create a Plane class\n",
        "\n",
        "for x in (car1, boat1, plane1):\n",
        "  x.move()"
      ],
      "metadata": {
        "colab": {
          "base_uri": "https://localhost:8080/"
        },
        "id": "edTNxGFNEv4K",
        "outputId": "a0301cc9-5b5d-4e08-9c0a-b9a861c0c189"
      },
      "execution_count": null,
      "outputs": [
        {
          "output_type": "stream",
          "name": "stdout",
          "text": [
            "Drive!\n",
            "Sail!\n",
            "Fly!\n"
          ]
        }
      ]
    },
    {
      "cell_type": "code",
      "source": [
        "class vehicle:\n",
        "  def __init__(self, brand, model):\n",
        "    self.brand = brand\n",
        "    self.model = model\n",
        "\n",
        "  def move(self):\n",
        "    print('move!!')\n",
        "\n",
        "class Car(vehicle):\n",
        "\n",
        "  def move(self):\n",
        "    print(\"Drive!\")\n",
        "\n",
        "class Boat(vehicle):\n",
        "\n",
        "  def move(self):\n",
        "    print(\"Sail!\")\n",
        "\n",
        "class Plane(vehicle):\n",
        "  def move(self):\n",
        "    print(\"Fly!\")\n",
        "\n",
        "car1 = Car(\"Ford\", \"Mustang\")       #Create a Car class\n",
        "boat1 = Boat(\"Ibiza\", \"Touring 20\") #Create a Boat class\n",
        "plane1 = Plane(\"Boeing\", \"747\")     #Create a Plane class\n",
        "\n",
        "for i in (car1,boat1,plane1):\n",
        "  print(i.brand)\n",
        "  print(i.model)\n",
        "  i.move()"
      ],
      "metadata": {
        "colab": {
          "base_uri": "https://localhost:8080/"
        },
        "id": "rQfjtPSLEvmn",
        "outputId": "9057fd73-0226-4e73-bef9-1d30d0ac3038"
      },
      "execution_count": null,
      "outputs": [
        {
          "output_type": "stream",
          "name": "stdout",
          "text": [
            "Ford\n",
            "Mustang\n",
            "Drive!\n",
            "Ibiza\n",
            "Touring 20\n",
            "Sail!\n",
            "Boeing\n",
            "747\n",
            "Fly!\n"
          ]
        }
      ]
    },
    {
      "cell_type": "code",
      "source": [
        "class my_pets:\n",
        "  def __init__(self, name, legs,action,loves):\n",
        "    self.name = name\n",
        "    self.legs = legs\n",
        "    self.action = action\n",
        "    self.loves = loves\n",
        "\n",
        "  def sound(self):\n",
        "    print('sound')\n",
        "\n",
        "class dog(my_pets):\n",
        "  def sound(self):\n",
        "    print(\"Woof!\")\n",
        "\n",
        "class cat(my_pets):\n",
        "  def sound(self):\n",
        "    print(\"Meow!\")\n",
        "\n",
        "class bird(my_pets):\n",
        "  def sound(self):\n",
        "    print(\"chirp!\")\n",
        "\n",
        "dog1 = dog(\"Pakun, my lovely boy\", 4, \"bites\", \"squeaky toy\")\n",
        "cat1 = cat(\"tiger, my spicy girl\", 4, \"scratches\",  \"nobody\")\n",
        "bird1 = bird(\"Ari, my talkative kid\", 2, \"pecks\", \"blueberries\")\n",
        "\n",
        "for k in (dog1,cat1,bird1):\n",
        "  print(k.name)\n",
        "  print(k.legs)\n",
        "  print(k.action)\n",
        "  print(k.loves)\n",
        "  k.sound()\n",
        "  print()"
      ],
      "metadata": {
        "colab": {
          "base_uri": "https://localhost:8080/"
        },
        "id": "jnALuM6eCDLq",
        "outputId": "dfd3ab7a-881d-4115-d684-1b49f1d29178"
      },
      "execution_count": null,
      "outputs": [
        {
          "output_type": "stream",
          "name": "stdout",
          "text": [
            "Pakun, my lovely boy\n",
            "4\n",
            "bites\n",
            "squeaky toy\n",
            "Woof!\n",
            "\n",
            "tiger, my spicy girl\n",
            "4\n",
            "scratches\n",
            "nobody\n",
            "Meow!\n",
            "\n",
            "Ari, my talkative kid\n",
            "2\n",
            "pecks\n",
            "blueberries\n",
            "chirp!\n",
            "\n"
          ]
        }
      ]
    },
    {
      "cell_type": "markdown",
      "source": [
        "for loop  iterate\n"
      ],
      "metadata": {
        "id": "WPguOJLziDz2"
      }
    }
  ]
}
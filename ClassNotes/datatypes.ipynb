{
  "nbformat": 4,
  "nbformat_minor": 0,
  "metadata": {
    "colab": {
      "provenance": []
    },
    "kernelspec": {
      "name": "python3",
      "display_name": "Python 3"
    },
    "language_info": {
      "name": "python"
    }
  },
  "cells": [
    {
      "cell_type": "code",
      "execution_count": null,
      "metadata": {
        "id": "AXnKhEwiRAAA"
      },
      "outputs": [],
      "source": []
    },
    {
      "cell_type": "markdown",
      "source": [
        "day 3 aug 09 2023\n",
        "\n",
        "Data types\n",
        "1. Standard data type\n",
        "  a) numbers\n",
        "    i) interger : Any whole number +ve or -Ve\n",
        "    ii) Float : Any combination of whole number and fractional number (+ve or -ve)\n",
        "    iii) complex num : combination of interger or float and imaginary numbers (+ve or -ve) integer of float is called complex. eg: 2+3j\n",
        "  b) Text\n",
        "    i) Boolean : True and False\n",
        "    ii) String:\n",
        "    any combination inside single quotes\n",
        "    any combination inside double quotes\n",
        "    any combination inside triple single quotes\n",
        "    any combination inside triple double quotes\n",
        "  c) Data structure\n",
        "    i) List:\n",
        "      * list is represented by square bracket []\n",
        "      * list is mutable\n",
        "    ii) Tuple:\n",
        "      * tuple is represented by parenthesis ()\n",
        "      * tuple is immutable\n",
        "    iii) Set:\n",
        "      * set is combination of unique values\n",
        "      * set is collection of unordered elemets aka ramdom and removes repeated value\n",
        "      * set is represented by {}\n",
        "      * set is mutable\n",
        "    iv) Dictonary:"
      ],
      "metadata": {
        "id": "nsV5pvduwXUG"
      }
    },
    {
      "cell_type": "code",
      "source": [
        "cmplx1 = 2+3j\n",
        "print (cmplx1)\n",
        "print(type(cmplx1))"
      ],
      "metadata": {
        "colab": {
          "base_uri": "https://localhost:8080/"
        },
        "id": "ylamkzp_wbDZ",
        "outputId": "76a14b99-2ba4-4b17-c58b-f18423cf3528"
      },
      "execution_count": null,
      "outputs": [
        {
          "output_type": "stream",
          "name": "stdout",
          "text": [
            "(2+3j)\n",
            "<class 'complex'>\n"
          ]
        }
      ]
    },
    {
      "cell_type": "code",
      "source": [
        "bool1 = True\n",
        "print(bool1)\n",
        "print(type(bool1))"
      ],
      "metadata": {
        "colab": {
          "base_uri": "https://localhost:8080/"
        },
        "id": "Vi0xmhaCzAND",
        "outputId": "53cb4fbf-74c5-49cc-ddd4-8255b38da588"
      },
      "execution_count": null,
      "outputs": [
        {
          "output_type": "stream",
          "name": "stdout",
          "text": [
            "True\n",
            "<class 'bool'>\n"
          ]
        }
      ]
    },
    {
      "cell_type": "code",
      "source": [
        "stmt1= \"I like 'python'. I enjoy it. \"\n",
        "stmt2 = 'Very \"boring\" day. Its raining.'\n",
        "print(stmt1)\n",
        "print(stmt2)\n",
        "print(stmt1 + stmt2)"
      ],
      "metadata": {
        "colab": {
          "base_uri": "https://localhost:8080/"
        },
        "id": "ot5H63bN1cUB",
        "outputId": "fdacc224-5ecf-498c-e552-dd671abb1841"
      },
      "execution_count": null,
      "outputs": [
        {
          "output_type": "stream",
          "name": "stdout",
          "text": [
            "I like 'python'. I enjoy it. \n",
            "Very \"boring\" day. Its raining.\n",
            "I like 'python'. I enjoy it. Very \"boring\" day. Its raining.\n"
          ]
        }
      ]
    },
    {
      "cell_type": "code",
      "source": [
        "lst1 = [1,2,3,4]\n",
        "print(lst1)\n",
        "print(type(lst1))"
      ],
      "metadata": {
        "colab": {
          "base_uri": "https://localhost:8080/"
        },
        "id": "Wu-V6cFN5oit",
        "outputId": "71a819b9-196a-4157-ac78-f138adda0636"
      },
      "execution_count": null,
      "outputs": [
        {
          "output_type": "stream",
          "name": "stdout",
          "text": [
            "[1, 2, 3, 4]\n",
            "<class 'list'>\n"
          ]
        }
      ]
    },
    {
      "cell_type": "code",
      "source": [
        "tup1 = (1,2,3,4,5)\n",
        "print(tup1)\n",
        "print(type(tup1))"
      ],
      "metadata": {
        "colab": {
          "base_uri": "https://localhost:8080/"
        },
        "id": "oMPw43Xu5pdQ",
        "outputId": "d657bb93-9752-4446-fb2a-1553c40127c6"
      },
      "execution_count": null,
      "outputs": [
        {
          "output_type": "stream",
          "name": "stdout",
          "text": [
            "(1, 2, 3, 4, 5)\n",
            "<class 'tuple'>\n"
          ]
        }
      ]
    },
    {
      "cell_type": "code",
      "source": [
        "set1= {'a', 'b','c', 'D', 1,2,3,'!','#',3,1,'a','!'}\n",
        "print(set1)\n",
        "print(type(set1))"
      ],
      "metadata": {
        "colab": {
          "base_uri": "https://localhost:8080/"
        },
        "id": "3KiS-O635pL1",
        "outputId": "87d1454e-ff6e-4b61-afd2-f2f3f9565f0f"
      },
      "execution_count": null,
      "outputs": [
        {
          "output_type": "stream",
          "name": "stdout",
          "text": [
            "{1, 2, 3, '!', '#', 'b', 'a', 'D', 'c'}\n",
            "<class 'set'>\n"
          ]
        }
      ]
    },
    {
      "cell_type": "code",
      "source": [
        "lst2 = [3, 4.45, 3, 'python', True, '!!',\"#\"]\n",
        "print(lst2)\n",
        "print(type(lst2))"
      ],
      "metadata": {
        "colab": {
          "base_uri": "https://localhost:8080/"
        },
        "id": "mZWwo7EC7ECF",
        "outputId": "1e2db54a-1037-4789-96df-636c9670d803"
      },
      "execution_count": null,
      "outputs": [
        {
          "output_type": "stream",
          "name": "stdout",
          "text": [
            "[3, 4.45, 3, 'python', True, '!!', '#']\n",
            "<class 'list'>\n"
          ]
        }
      ]
    },
    {
      "cell_type": "code",
      "source": [
        "tup2 = (3, 4.45, 3, 'python', True, '!!',\"#\")\n",
        "print(tup2)\n",
        "print(type(tup2))"
      ],
      "metadata": {
        "colab": {
          "base_uri": "https://localhost:8080/"
        },
        "id": "cT-cX36O7D1c",
        "outputId": "c1fe6bfe-e33b-4a42-af77-fb8c773614d8"
      },
      "execution_count": null,
      "outputs": [
        {
          "output_type": "stream",
          "name": "stdout",
          "text": [
            "(3, 4.45, 3, 'python', True, '!!', '#')\n",
            "<class 'tuple'>\n"
          ]
        }
      ]
    },
    {
      "cell_type": "code",
      "source": [
        "set2 = {3, 4.45, 3, 'python', True, 0,1, '!!',\"#\"}\n",
        "print(set2)\n",
        "print(type(set2))"
      ],
      "metadata": {
        "colab": {
          "base_uri": "https://localhost:8080/"
        },
        "id": "BCWqe8lf7Di6",
        "outputId": "4d91f01b-6b7d-4780-b839-36aea2993b12"
      },
      "execution_count": null,
      "outputs": [
        {
          "output_type": "stream",
          "name": "stdout",
          "text": [
            "{0, True, 3, 4.45, 'python', '#', '!!'}\n",
            "<class 'set'>\n"
          ]
        }
      ]
    },
    {
      "cell_type": "code",
      "source": [
        "dict1 = {'a' : 'apple',\n",
        "         'b': 'banana',\n",
        "         'c': 'cherry'}\n",
        "print(dict1)\n",
        "print(type(dict1))"
      ],
      "metadata": {
        "colab": {
          "base_uri": "https://localhost:8080/"
        },
        "id": "Gl-32mbG_fQd",
        "outputId": "e53b0e5b-cc7d-40bc-ec80-d9e745ce0b75"
      },
      "execution_count": null,
      "outputs": [
        {
          "output_type": "stream",
          "name": "stdout",
          "text": [
            "{'a': 'apple', 'b': 'banana', 'c': 'cherry'}\n",
            "<class 'dict'>\n"
          ]
        }
      ]
    },
    {
      "cell_type": "code",
      "source": [
        "dict2 = {'lst3': [3, 4.45, 3, 'python', True, '!!',\"#\"],\n",
        "         'tup3' : (3, 4.45, 3, 'python', True, '!!',\"#\"),\n",
        "         'set3': {3, 4.45, 3, 'python', True, 0,1, '!!',\"#\"}}\n",
        "print(dict2)\n",
        "print(type(dict2))"
      ],
      "metadata": {
        "colab": {
          "base_uri": "https://localhost:8080/"
        },
        "id": "5VNFZdOK__p7",
        "outputId": "e67e4870-c6ce-4de4-e820-814882c24eb4"
      },
      "execution_count": null,
      "outputs": [
        {
          "output_type": "stream",
          "name": "stdout",
          "text": [
            "{'lst3': [3, 4.45, 3, 'python', True, '!!', '#'], 'tup3': (3, 4.45, 3, 'python', True, '!!', '#'), 'set3': {0, True, 3, 4.45, 'python', '#', '!!'}}\n",
            "<class 'dict'>\n"
          ]
        }
      ]
    },
    {
      "cell_type": "code",
      "source": [
        "str1= 'Venkatanarasimharajuvaripeta'\n",
        "print(str1)\n",
        "print(type(str1))\n",
        "print(len(str1))\n",
        "print(str1[0])\n",
        "print(str1[1])\n",
        "print(str1[2])\n",
        "print(str1[3])\n",
        "print(str1[4])\n",
        "print(str1[5])\n",
        "print(str1[6])\n",
        "print(str1[7])"
      ],
      "metadata": {
        "colab": {
          "base_uri": "https://localhost:8080/"
        },
        "id": "JVnwbj6-BhLz",
        "outputId": "ffe07752-f56c-4472-a20d-5139f80d865e"
      },
      "execution_count": null,
      "outputs": [
        {
          "output_type": "stream",
          "name": "stdout",
          "text": [
            "Venkatanarasimharajuvaripeta\n",
            "<class 'str'>\n",
            "28\n",
            "V\n",
            "e\n",
            "n\n",
            "k\n",
            "a\n",
            "t\n",
            "a\n",
            "n\n"
          ]
        }
      ]
    },
    {
      "cell_type": "code",
      "source": [
        "str1= 'Generals'\n",
        "print(str1)\n",
        "print(type(str1))\n",
        "print(len(str1))\n",
        "print(str1[0])\n",
        "print(str1[1])\n",
        "print(str1[2])\n",
        "print(str1[3])\n",
        "print(str1[4])\n",
        "print(str1[5])\n",
        "print(str1[6])\n",
        "print(str1[7])"
      ],
      "metadata": {
        "colab": {
          "base_uri": "https://localhost:8080/"
        },
        "id": "5ZL486f5Bg9O",
        "outputId": "d9ca03e4-4f55-4da2-dcf1-f1862c7c1fb0"
      },
      "execution_count": null,
      "outputs": [
        {
          "output_type": "stream",
          "name": "stdout",
          "text": [
            "Generals\n",
            "<class 'str'>\n",
            "8\n",
            "G\n",
            "e\n",
            "n\n",
            "e\n",
            "r\n",
            "a\n",
            "l\n",
            "s\n"
          ]
        }
      ]
    },
    {
      "cell_type": "code",
      "source": [
        "str1= 'Venkatanarasimharajuvaripeta'"
      ],
      "metadata": {
        "id": "-TLnXueOEl2b"
      },
      "execution_count": null,
      "outputs": []
    },
    {
      "cell_type": "code",
      "source": [
        "str1[0:7:1], str1[7:16:1], str1[16:28:1]"
      ],
      "metadata": {
        "colab": {
          "base_uri": "https://localhost:8080/"
        },
        "id": "C-pet90HEzd2",
        "outputId": "638fef7e-c987-4573-c759-5a59f084f136"
      },
      "execution_count": null,
      "outputs": [
        {
          "output_type": "execute_result",
          "data": {
            "text/plain": [
              "('Venkata', 'narasimha', 'rajuvaripeta')"
            ]
          },
          "metadata": {},
          "execution_count": 31
        }
      ]
    },
    {
      "cell_type": "code",
      "source": [
        "str1= 'dallastexastospringdale'\n",
        "print(len(str1))\n",
        "print(str1[0:6:1], str1[6:11:1], str1[11:13:1])\n",
        "str1[13:23:1]"
      ],
      "metadata": {
        "colab": {
          "base_uri": "https://localhost:8080/",
          "height": 70
        },
        "id": "-zLEd5QjF4cb",
        "outputId": "c567d435-a9fd-49e4-a87c-bf31a4ee9654"
      },
      "execution_count": null,
      "outputs": [
        {
          "output_type": "stream",
          "name": "stdout",
          "text": [
            "23\n",
            "dallas texas to\n"
          ]
        },
        {
          "output_type": "execute_result",
          "data": {
            "text/plain": [
              "'springdale'"
            ],
            "application/vnd.google.colaboratory.intrinsic+json": {
              "type": "string"
            }
          },
          "metadata": {},
          "execution_count": 39
        }
      ]
    },
    {
      "cell_type": "code",
      "source": [
        "str1 = 'SrinivasaRamanujanAiyanagar'\n",
        "str1[::]"
      ],
      "metadata": {
        "colab": {
          "base_uri": "https://localhost:8080/",
          "height": 36
        },
        "id": "VikF30fRIXpV",
        "outputId": "41bff343-aefe-49ad-d531-a6a561955623"
      },
      "execution_count": null,
      "outputs": [
        {
          "output_type": "execute_result",
          "data": {
            "text/plain": [
              "'SrinivasaRamanujanAiyanagar'"
            ],
            "application/vnd.google.colaboratory.intrinsic+json": {
              "type": "string"
            }
          },
          "metadata": {},
          "execution_count": 40
        }
      ]
    },
    {
      "cell_type": "code",
      "source": [
        "str1[0::], str1[:len(str1):], str1[::1], str1[:9:], str1[9:18:], str1[18::]"
      ],
      "metadata": {
        "colab": {
          "base_uri": "https://localhost:8080/"
        },
        "id": "ni-gTsxWImL8",
        "outputId": "1e1165fa-f496-4f46-aeb9-36f2a1f79606"
      },
      "execution_count": null,
      "outputs": [
        {
          "output_type": "execute_result",
          "data": {
            "text/plain": [
              "('SrinivasaRamanujanAiyanagar',\n",
              " 'SrinivasaRamanujanAiyanagar',\n",
              " 'SrinivasaRamanujanAiyanagar',\n",
              " 'Srinivasa',\n",
              " 'Ramanujan',\n",
              " 'Aiyanagar')"
            ]
          },
          "metadata": {},
          "execution_count": 41
        }
      ]
    },
    {
      "cell_type": "code",
      "source": [
        "str1= 'dallastexastospringdale'\n",
        "str1[0::], str1[:len(str1):], str1[::1], str1[:6:], str1[6:11:], str1[11:13:] ,str1[13::]"
      ],
      "metadata": {
        "colab": {
          "base_uri": "https://localhost:8080/"
        },
        "id": "Iy39s_YJJ7tv",
        "outputId": "f9b89928-270e-4c22-c350-c2a79354f04f"
      },
      "execution_count": null,
      "outputs": [
        {
          "output_type": "execute_result",
          "data": {
            "text/plain": [
              "('dallastexastospringdale',\n",
              " 'dallastexastospringdale',\n",
              " 'dallastexastospringdale',\n",
              " 'dallas',\n",
              " 'texas',\n",
              " 'to',\n",
              " 'springdale')"
            ]
          },
          "metadata": {},
          "execution_count": 44
        }
      ]
    },
    {
      "cell_type": "markdown",
      "source": [
        "Thursday Aug 10, 2023\n",
        "\n",
        "string slicing and indexing"
      ],
      "metadata": {
        "id": "HvR1knmS5hOQ"
      }
    },
    {
      "cell_type": "code",
      "source": [
        "str1 = 'Peppa prefer Python Programming'\n",
        "str1[0:5:1], str1[6:12:1], str1[13:19:1], str1[20:31:1]"
      ],
      "metadata": {
        "colab": {
          "base_uri": "https://localhost:8080/"
        },
        "id": "3eq5OMTC5toZ",
        "outputId": "232e9c87-ddba-478b-e83e-c328131bb0c5"
      },
      "execution_count": null,
      "outputs": [
        {
          "output_type": "execute_result",
          "data": {
            "text/plain": [
              "('Peppa', 'prefer', 'Python', 'Programming')"
            ]
          },
          "metadata": {},
          "execution_count": 7
        }
      ]
    },
    {
      "cell_type": "code",
      "source": [
        "str1= 'SrinivasaRamanujanAiyanagar'\n",
        "str1[::1]\n",
        "str1[::-1]"
      ],
      "metadata": {
        "colab": {
          "base_uri": "https://localhost:8080/",
          "height": 36
        },
        "id": "IoBlpeKk54At",
        "outputId": "eea3be53-4d30-421f-8c50-559a82fa1cf3"
      },
      "execution_count": null,
      "outputs": [
        {
          "output_type": "execute_result",
          "data": {
            "text/plain": [
              "'raganayiAnajunamaRasavinirS'"
            ],
            "application/vnd.google.colaboratory.intrinsic+json": {
              "type": "string"
            }
          },
          "metadata": {},
          "execution_count": 8
        }
      ]
    },
    {
      "cell_type": "code",
      "source": [
        "str1[-1:-9:-1], str1[-9:-18:-1], str1[-18::-1]"
      ],
      "metadata": {
        "colab": {
          "base_uri": "https://localhost:8080/"
        },
        "id": "CMhlm_iJAFji",
        "outputId": "b2186073-6dfc-4a28-a006-32f8114323ed"
      },
      "execution_count": null,
      "outputs": [
        {
          "output_type": "execute_result",
          "data": {
            "text/plain": [
              "('raganayi', 'Anajunama', 'RasavinirS')"
            ]
          },
          "metadata": {},
          "execution_count": 9
        }
      ]
    },
    {
      "cell_type": "code",
      "source": [
        "str1 = 'Peppa prefer Python Programming'\n",
        "str1[-1:-12:-1], str1[-12:-19:-1], str1[-19:-26:-1], str1[-26::-1]"
      ],
      "metadata": {
        "colab": {
          "base_uri": "https://localhost:8080/"
        },
        "id": "ME9ueikRAFWe",
        "outputId": "146ac834-aa27-4c63-a24e-19da8b64566f"
      },
      "execution_count": null,
      "outputs": [
        {
          "output_type": "execute_result",
          "data": {
            "text/plain": [
              "('gnimmargorP', ' nohtyP', ' referp', ' appeP')"
            ]
          },
          "metadata": {},
          "execution_count": 16
        }
      ]
    },
    {
      "cell_type": "code",
      "source": [
        "str1= 'Venkatanarasimharajuvaripeta'\n",
        "str1[-1:-9:-1], str1[-9:-13:-1], str1[-13:-22:-1], str1[-22::-1]"
      ],
      "metadata": {
        "colab": {
          "base_uri": "https://localhost:8080/"
        },
        "id": "x2bGNFtNAFNs",
        "outputId": "72c1b317-35bb-43ee-a8a1-5f00b4bc1a74"
      },
      "execution_count": null,
      "outputs": [
        {
          "output_type": "execute_result",
          "data": {
            "text/plain": [
              "('atepirav', 'ujar', 'ahmisaran', 'atakneV')"
            ]
          },
          "metadata": {},
          "execution_count": 23
        }
      ]
    },
    {
      "cell_type": "code",
      "source": [
        "#positive indexing negative slicing\n",
        "str1= 'VenkataNarasimhaRajuvaripeta'\n",
        "str1[6::-1], str1[15:6:-1], str1[27:15:-1]"
      ],
      "metadata": {
        "colab": {
          "base_uri": "https://localhost:8080/"
        },
        "id": "Te7qy52YBC_z",
        "outputId": "edc7f358-4a0f-448d-b1e1-f9ef1f6348a3"
      },
      "execution_count": null,
      "outputs": [
        {
          "output_type": "execute_result",
          "data": {
            "text/plain": [
              "('atakneV', 'ahmisaraN', 'atepiravujaR')"
            ]
          },
          "metadata": {},
          "execution_count": 26
        }
      ]
    },
    {
      "cell_type": "code",
      "source": [
        "str1 = 'Peppa prefer Python Programming'\n",
        "str1[5::-1], str1[11:5:-1], str1[18:12:-1], str1[30:18:-1]"
      ],
      "metadata": {
        "colab": {
          "base_uri": "https://localhost:8080/"
        },
        "id": "FDvtRUucBC2s",
        "outputId": "7aecdeb5-2c8d-4816-b7d4-4291cd070647"
      },
      "execution_count": null,
      "outputs": [
        {
          "output_type": "execute_result",
          "data": {
            "text/plain": [
              "(' appeP', 'referp', 'nohtyP', 'gnimmargorP ')"
            ]
          },
          "metadata": {},
          "execution_count": 36
        }
      ]
    },
    {
      "cell_type": "code",
      "source": [
        "#negative indexing positive slicing\n",
        "str1= 'SrinivasaRamanujanAiyanagar'\n",
        "str1[-27:-18:1], str1[-18:-9:1], str1[-9::1]"
      ],
      "metadata": {
        "colab": {
          "base_uri": "https://localhost:8080/"
        },
        "id": "kK_9AEYXBCw2",
        "outputId": "a3b67915-b372-401b-d4e9-3f126b3b761c"
      },
      "execution_count": null,
      "outputs": [
        {
          "output_type": "execute_result",
          "data": {
            "text/plain": [
              "('Srinivasa', 'Ramanujan', 'Aiyanagar')"
            ]
          },
          "metadata": {},
          "execution_count": 45
        }
      ]
    },
    {
      "cell_type": "code",
      "source": [
        "str1= 'VenkataNarasimhaRajuvaripeta'\n",
        "str1[-28:-21], str1[-21:-12], str1[-12::1]"
      ],
      "metadata": {
        "colab": {
          "base_uri": "https://localhost:8080/"
        },
        "id": "oGuuxwsFBCqs",
        "outputId": "748c50cd-3630-4662-8774-710d52fca872"
      },
      "execution_count": null,
      "outputs": [
        {
          "output_type": "execute_result",
          "data": {
            "text/plain": [
              "('Venkata', 'Narasimha', 'Rajuvaripeta')"
            ]
          },
          "metadata": {},
          "execution_count": 58
        }
      ]
    },
    {
      "cell_type": "code",
      "source": [
        "lst1 = ['apple', 'banana', 'cherries', 'dates', 'fig', 'grapes', 'honeyfruit', 'icefruit']\n",
        "print(lst1)\n",
        "print(type(lst1))"
      ],
      "metadata": {
        "colab": {
          "base_uri": "https://localhost:8080/"
        },
        "id": "gfE5FBenBClG",
        "outputId": "65136f08-1ac4-43f5-ae5f-f98e350656db"
      },
      "execution_count": null,
      "outputs": [
        {
          "output_type": "stream",
          "name": "stdout",
          "text": [
            "['apple', 'banana', 'cherries', 'dates', 'fig', 'grapes', 'honeyfruit', 'icefruit']\n",
            "<class 'list'>\n"
          ]
        }
      ]
    },
    {
      "cell_type": "code",
      "source": [
        "lst1[0], lst1[1], lst1[2], lst1[3], lst1[4], lst1[5], lst1[6], lst1[7]"
      ],
      "metadata": {
        "colab": {
          "base_uri": "https://localhost:8080/"
        },
        "id": "w8jlUnsTNvI4",
        "outputId": "ac1724c7-b57d-4a07-8597-2cb2207b9ce4"
      },
      "execution_count": null,
      "outputs": [
        {
          "output_type": "execute_result",
          "data": {
            "text/plain": [
              "('apple',\n",
              " 'banana',\n",
              " 'cherries',\n",
              " 'dates',\n",
              " 'fig',\n",
              " 'grapes',\n",
              " 'honeyfruit',\n",
              " 'icefruit')"
            ]
          },
          "metadata": {},
          "execution_count": 60
        }
      ]
    },
    {
      "cell_type": "code",
      "source": [
        "lst1[::]\n",
        "lst1[0::]\n",
        "lst1[:len(lst1):]\n",
        "lst1[::1]\n",
        "\n",
        "lst1[0: len(lst1): 1]\n",
        "lst1[::-1]\n",
        "\n",
        "lst1[-1::-1]\n",
        "\n",
        "\n",
        "lst1[9::-1]\n",
        "lst1[-9::1]"
      ],
      "metadata": {
        "colab": {
          "base_uri": "https://localhost:8080/"
        },
        "id": "qiTV_eIPOYOF",
        "outputId": "c6f728c4-3ced-4065-a1f8-32325d890a50"
      },
      "execution_count": null,
      "outputs": [
        {
          "output_type": "execute_result",
          "data": {
            "text/plain": [
              "['apple',\n",
              " 'banana',\n",
              " 'cherries',\n",
              " 'dates',\n",
              " 'fig',\n",
              " 'grapes',\n",
              " 'honeyfruit',\n",
              " 'icefruit']"
            ]
          },
          "metadata": {},
          "execution_count": 68
        }
      ]
    },
    {
      "cell_type": "code",
      "source": [
        "lst1=['Canada', 'Nepal', 'India', 'China', 'Chile', 'Peru', 'Japan', 'Korea', 'Cuba', 'Mexico']\n",
        "print(lst1[::])\n",
        "print(lst1[0::])\n",
        "print(lst1[:len(lst1):])\n",
        "print(lst1[::1])\n",
        "\n",
        "print(lst1[0: len(lst1): 1])\n",
        "print(lst1[::-1])\n",
        "\n",
        "print(lst1[-1::-1])\n",
        "\n",
        "\n",
        "print(lst1[10::-1])\n",
        "print(lst1[-10::1])"
      ],
      "metadata": {
        "colab": {
          "base_uri": "https://localhost:8080/"
        },
        "id": "Gw17XwW7OYG4",
        "outputId": "a4d98d7c-6c22-4b8c-8435-7f74fbda5635"
      },
      "execution_count": null,
      "outputs": [
        {
          "output_type": "stream",
          "name": "stdout",
          "text": [
            "['Canada', 'Nepal', 'India', 'China', 'Chile', 'Peru', 'Japan', 'Korea', 'Cuba', 'Mexico']\n",
            "['Canada', 'Nepal', 'India', 'China', 'Chile', 'Peru', 'Japan', 'Korea', 'Cuba', 'Mexico']\n",
            "['Canada', 'Nepal', 'India', 'China', 'Chile', 'Peru', 'Japan', 'Korea', 'Cuba', 'Mexico']\n",
            "['Canada', 'Nepal', 'India', 'China', 'Chile', 'Peru', 'Japan', 'Korea', 'Cuba', 'Mexico']\n",
            "['Canada', 'Nepal', 'India', 'China', 'Chile', 'Peru', 'Japan', 'Korea', 'Cuba', 'Mexico']\n",
            "['Mexico', 'Cuba', 'Korea', 'Japan', 'Peru', 'Chile', 'China', 'India', 'Nepal', 'Canada']\n",
            "['Mexico', 'Cuba', 'Korea', 'Japan', 'Peru', 'Chile', 'China', 'India', 'Nepal', 'Canada']\n",
            "['Mexico', 'Cuba', 'Korea', 'Japan', 'Peru', 'Chile', 'China', 'India', 'Nepal', 'Canada']\n",
            "['Canada', 'Nepal', 'India', 'China', 'Chile', 'Peru', 'Japan', 'Korea', 'Cuba', 'Mexico']\n"
          ]
        }
      ]
    },
    {
      "cell_type": "code",
      "source": [
        "tup1=('Canada', 'Nepal', 'India', 'China', 'Chile', 'Peru', 'Japan', 'Korea', 'Cuba', 'Mexico')\n",
        "print(tup1[::])\n",
        "print(tup1[0::])\n",
        "print(tup1[:len(tup1):])\n",
        "print(tup1[::1])\n",
        "\n",
        "print(tup1[0: len(tup1): 1])\n",
        "print(tup1[::-1])\n",
        "\n",
        "print(tup1[-1::-1])\n",
        "print(tup1[4:10])\n",
        "print(tup1[6:1:-1])\n",
        "print(tup1[10::-1])\n",
        "print(tup1[-10::1])"
      ],
      "metadata": {
        "colab": {
          "base_uri": "https://localhost:8080/"
        },
        "id": "wmXL3oaBOYBt",
        "outputId": "0d3a2c5a-78c2-427a-d838-e317b3272251"
      },
      "execution_count": null,
      "outputs": [
        {
          "output_type": "stream",
          "name": "stdout",
          "text": [
            "('Canada', 'Nepal', 'India', 'China', 'Chile', 'Peru', 'Japan', 'Korea', 'Cuba', 'Mexico')\n",
            "('Canada', 'Nepal', 'India', 'China', 'Chile', 'Peru', 'Japan', 'Korea', 'Cuba', 'Mexico')\n",
            "('Canada', 'Nepal', 'India', 'China', 'Chile', 'Peru', 'Japan', 'Korea', 'Cuba', 'Mexico')\n",
            "('Canada', 'Nepal', 'India', 'China', 'Chile', 'Peru', 'Japan', 'Korea', 'Cuba', 'Mexico')\n",
            "('Canada', 'Nepal', 'India', 'China', 'Chile', 'Peru', 'Japan', 'Korea', 'Cuba', 'Mexico')\n",
            "('Mexico', 'Cuba', 'Korea', 'Japan', 'Peru', 'Chile', 'China', 'India', 'Nepal', 'Canada')\n",
            "('Mexico', 'Cuba', 'Korea', 'Japan', 'Peru', 'Chile', 'China', 'India', 'Nepal', 'Canada')\n",
            "('Chile', 'Peru', 'Japan', 'Korea', 'Cuba', 'Mexico')\n",
            "('Japan', 'Peru', 'Chile', 'China', 'India')\n",
            "('Mexico', 'Cuba', 'Korea', 'Japan', 'Peru', 'Chile', 'China', 'India', 'Nepal', 'Canada')\n",
            "('Canada', 'Nepal', 'India', 'China', 'Chile', 'Peru', 'Japan', 'Korea', 'Cuba', 'Mexico')\n"
          ]
        }
      ]
    },
    {
      "cell_type": "code",
      "source": [],
      "metadata": {
        "id": "1vDC47X-OX8g"
      },
      "execution_count": null,
      "outputs": []
    },
    {
      "cell_type": "code",
      "source": [],
      "metadata": {
        "id": "GVFiCw5EOX3Z"
      },
      "execution_count": null,
      "outputs": []
    }
  ]
}
{
  "nbformat": 4,
  "nbformat_minor": 0,
  "metadata": {
    "colab": {
      "provenance": [],
      "authorship_tag": "ABX9TyNEiO4YnUnBkeJmyMuTJKwD",
      "include_colab_link": true
    },
    "kernelspec": {
      "name": "python3",
      "display_name": "Python 3"
    },
    "language_info": {
      "name": "python"
    }
  },
  "cells": [
    {
      "cell_type": "markdown",
      "metadata": {
        "id": "view-in-github",
        "colab_type": "text"
      },
      "source": [
        "<a href=\"https://colab.research.google.com/github/Sanskriti3/DataScienceBootcamp/blob/main/ClassNotes/if_else_conditions.ipynb\" target=\"_parent\"><img src=\"https://colab.research.google.com/assets/colab-badge.svg\" alt=\"Open In Colab\"/></a>"
      ]
    },
    {
      "cell_type": "code",
      "execution_count": null,
      "metadata": {
        "colab": {
          "base_uri": "https://localhost:8080/"
        },
        "id": "8UZblhMUxOgu",
        "outputId": "aaaf2834-73df-44ed-b326-afdd61a6d0f6"
      },
      "outputs": [
        {
          "output_type": "stream",
          "name": "stdout",
          "text": [
            "It is divisible by 7\n"
          ]
        }
      ],
      "source": [
        "#check if number divisible by 7 or not\n",
        "num = 49\n",
        "if num%7 == 0:\n",
        "  print(\"It is divisible by 7\")\n",
        "else:\n",
        "  print(\"It is not divisible by 7\")"
      ]
    },
    {
      "cell_type": "code",
      "source": [
        "#write a program to print hello if number is multiple of 5 or 3 else print bye\n",
        "num = 15\n",
        "if num%3==0 or num%5==0:\n",
        "  print(\"hello\")\n",
        "else:\n",
        "  print(\"bye\")"
      ],
      "metadata": {
        "colab": {
          "base_uri": "https://localhost:8080/"
        },
        "id": "AxeQFpEKxS-7",
        "outputId": "adf5d8bd-85a6-4119-820d-115559cc8c3e"
      },
      "execution_count": null,
      "outputs": [
        {
          "output_type": "stream",
          "name": "stdout",
          "text": [
            "hello\n"
          ]
        }
      ]
    },
    {
      "cell_type": "code",
      "source": [
        "\"\"\"\n",
        "Write a python program that will check for the following conditions:\n",
        "If the light is green – Car is allowed to go\n",
        "If the light is yellow – Car has to wait\n",
        "If the light is red – Car has to stop\n",
        "Other signal – unrecognized signal. Example black, blue, etc…\n",
        "\"\"\"\n",
        "signal = input(\"what is the color of traffic light? \").lower()\n",
        "if signal == 'red':\n",
        "  print(\"Car has to stop\")\n",
        "elif signal == 'yellow':\n",
        "  print(\"Car has to wait\")\n",
        "elif signal == 'green':\n",
        "  print(\"Car can go\")\n",
        "else:\n",
        "  print(\"Unrecognized signal\")"
      ],
      "metadata": {
        "colab": {
          "base_uri": "https://localhost:8080/"
        },
        "id": "amhJsdqFxS7e",
        "outputId": "58e5cc29-3a4c-4900-dc52-a06775062c62"
      },
      "execution_count": null,
      "outputs": [
        {
          "output_type": "stream",
          "name": "stdout",
          "text": [
            "what is the color of traffic light? RED\n",
            "Car has to stop\n"
          ]
        }
      ]
    },
    {
      "cell_type": "code",
      "source": [
        "\"\"\"\n",
        "Write a program to trace your subject mark. Your program should fulfill the following conditions:\n",
        "\n",
        "If the subject mark is below 0 and above 100, print “error: mark should be between 0 and 100 only”\n",
        "Students will fail in the subject if their mark is below 50.\n",
        "Students will pass in the subject if they score 50 and above.\n",
        "\n",
        "If subject mark is between 50 and 60, grade student as good.\n",
        "If subject mark is between 60 and 80, grade student as very good.\n",
        "If subject mark is between 80 and 100, grade student as outstanding.\n",
        "\n",
        "Make sure to print their mark in every statement to prove that the condition is fulfilled.\n",
        "Moreover, name, class, and section should be also displayed along with the marks.\n",
        "\n",
        "OR\n",
        "0 0  FALSE\n",
        "1 0 True\n",
        "0 1 True\n",
        "1 1 True\n",
        "\n",
        "AND\n",
        "0 0 False\n",
        "1 0 False\n",
        "0 1 False\n",
        "1 1 True\n",
        "\"\"\"\n",
        "\n",
        "name = input(\"Enter name:\").title()\n",
        "clas = input(\"Enter class:\")\n",
        "section = input(\"Enter section:\")\n",
        "subject = input(\"Enter the subject name:\")\n",
        "mark = float(input(\"Mark scored in that subject:\"))\n",
        "\n",
        "if mark < 0 or mark > 100:\n",
        "    print(\"Error: Mark should be between 0 and 100 only!\")\n",
        "elif mark < 50:\n",
        "    print(subject, \"mark is \", mark)\n",
        "    print(\"Failed in \", subject)\n",
        "elif mark >= 50:\n",
        "    print(subject, \"mark is \", mark)\n",
        "    print(\"Congratulations! Pass in \", subject)\n",
        "    if mark >=50 and mark < 60:\n",
        "        print(\"Remark: Good in \", subject)\n",
        "    elif mark >= 60 and mark < 80:\n",
        "        print(\"Remark: Very good in \", subject)\n",
        "    elif mark >= 80 and mark <= 100:\n",
        "        print(\"Remark: Outstanding in \", subject)"
      ],
      "metadata": {
        "colab": {
          "base_uri": "https://localhost:8080/"
        },
        "id": "68v3RgOdxS5p",
        "outputId": "bb40990b-a685-44cd-a871-778fd2abbbce"
      },
      "execution_count": null,
      "outputs": [
        {
          "output_type": "stream",
          "name": "stdout",
          "text": [
            "Enter name:Sanskriti\n",
            "Enter class:12\n",
            "Enter section:a\n",
            "Enter the subject name:Maths\n",
            "Mark scored in that subject:89\n",
            "Maths mark is  89.0\n",
            "Congratulations! Pass in  Maths\n",
            "Remark: Outstanding in  Maths\n"
          ]
        }
      ]
    },
    {
      "cell_type": "code",
      "source": [
        "#1.A company decided to give bonus of 5% to employee if his/her year of service is more than 5 years.\n",
        "#Ask user for their salary and year of service and print the net bonus amount.\n",
        "\n",
        "yos = float(input(\"Enter year of service\"))\n",
        "if yos>5:\n",
        "  salary = float(input(\"Enter salary\"))\n",
        "  print (\"Bonus is\",.05*salary)\n",
        "else:\n",
        "  print (\"No bonus\")\n"
      ],
      "metadata": {
        "colab": {
          "base_uri": "https://localhost:8080/"
        },
        "id": "G0Ft3w_FxS3W",
        "outputId": "a10ae0cb-e28e-441b-891c-862ef30ec281"
      },
      "execution_count": null,
      "outputs": [
        {
          "output_type": "stream",
          "name": "stdout",
          "text": [
            "Enter year of service1\n",
            "No bonus\n"
          ]
        }
      ]
    },
    {
      "cell_type": "code",
      "source": [
        "#Take values of length and breadth of a rectangle from user and check if it is square or not\n",
        "length = input(\"Enter length :- \")\n",
        "breadth = input(\"Enter breadth :-\")\n",
        "if length == breadth:\n",
        "  print (\"Yes, it is square\")\n",
        "else:\n",
        "  print (\"No, it is only Rectangle\")"
      ],
      "metadata": {
        "colab": {
          "base_uri": "https://localhost:8080/"
        },
        "id": "bBNdTWstxS1B",
        "outputId": "44fa9e1e-6c28-4dcc-b62d-fe7e44605ba4"
      },
      "execution_count": null,
      "outputs": [
        {
          "output_type": "stream",
          "name": "stdout",
          "text": [
            "Enter length :- 12\n",
            "Enter breadth :-12\n",
            "Yes, it is square\n"
          ]
        }
      ]
    },
    {
      "cell_type": "code",
      "source": [
        "#Take two int values from user and print greatest among them.\n",
        "first = int(input(\"Enter first number\"))\n",
        "second = int(input(\"Enter second number\"))\n",
        "if first>second:\n",
        "  print (\"Greatest is\",first)\n",
        "elif second>first:\n",
        "  print (\"Greatest is\",second)\n",
        "else:\n",
        "  print (\"Both are equal\")"
      ],
      "metadata": {
        "colab": {
          "base_uri": "https://localhost:8080/"
        },
        "id": "50E7rzbDxSwz",
        "outputId": "1c7674a4-6ff9-4bd9-f75f-0d0294ab4a9f"
      },
      "execution_count": null,
      "outputs": [
        {
          "output_type": "stream",
          "name": "stdout",
          "text": [
            "Enter first number25\n",
            "Enter second number34\n",
            "Greatest is 34\n"
          ]
        }
      ]
    },
    {
      "cell_type": "code",
      "source": [
        "\"\"\" A shop will give discount of 10% if the cost of purchased quantity is more than 1000.\n",
        "Ask user for quantity\n",
        "Suppose, one unit will cost 100.\n",
        "Judge and print total cost for user.\"\"\"\n",
        "\n",
        "quantity = int(input(\"Enter quantity \"))\n",
        "if quantity*100 > 1000:\n",
        "  print (\"Cost is\",((quantity*100)-(.1*quantity*100)))\n",
        "else:\n",
        "  print (\"Cost is\",quantity*100)\n"
      ],
      "metadata": {
        "colab": {
          "base_uri": "https://localhost:8080/"
        },
        "id": "WUCMlVYnxSuf",
        "outputId": "42dc688e-fce1-4b6b-ec31-4f1e0087241d"
      },
      "execution_count": null,
      "outputs": [
        {
          "output_type": "stream",
          "name": "stdout",
          "text": [
            "Enter quantity 12\n",
            "Cost is 1080.0\n"
          ]
        }
      ]
    },
    {
      "cell_type": "code",
      "source": [
        "\"\"\"A school has following rules for grading system:\n",
        "a. Below 25 - F\n",
        "b. 25 to 45 - E\n",
        "c. 45 to 50 - D\n",
        "d. 50 to 60 - C\n",
        "e. 60 to 80 - B\n",
        "f. Above 80 - A\n",
        "Ask user to enter marks and print the corresponding grade.\"\"\"\n",
        "marks = float(input(\"Enter your marks  \"))\n",
        "if marks>80:\n",
        "  print(\"A\")\n",
        "elif marks<80 and marks>=60:\n",
        "  print(\"B\")\n",
        "elif marks<60 and marks>=50:\n",
        "  print(\"C\")\n",
        "elif marks<50 and marks>=45:\n",
        "  print(\"D\")\n",
        "elif marks<45 and marks>=25:\n",
        "  print(\"E\")\n",
        "else:\n",
        "  print(\"F\")"
      ],
      "metadata": {
        "colab": {
          "base_uri": "https://localhost:8080/"
        },
        "id": "nPY0DcyA1_7d",
        "outputId": "6f8305ee-578d-499e-8d70-1f57b37e354b"
      },
      "execution_count": null,
      "outputs": [
        {
          "output_type": "stream",
          "name": "stdout",
          "text": [
            "Enter your marks99\n",
            "A\n"
          ]
        }
      ]
    },
    {
      "cell_type": "code",
      "source": [
        "#Take input of age of 3 people by user and determine oldest and youngest among them.\n",
        "first = int(input(\"Enter first age \"))\n",
        "second = int( input(\"Enter second age\"))\n",
        "third = int ( input(\"Enter third age\"))\n",
        "\n",
        "if first >= second and first >= third:\n",
        "  if second>third:\n",
        "    print(\"The youngest is \",third)\n",
        "  elif first==second==third:\n",
        "    print (\"All are equal\")\n",
        "  else:\n",
        "    print(\"The youngest is \",second)\n",
        "  print (\"Oldest is\",first)\n",
        "elif second >= first and second >= third:\n",
        "  if first>third:\n",
        "    print(\"The youngest is \",third)\n",
        "  elif first==second==third:\n",
        "    print (\"All are equal\")\n",
        "  else:\n",
        "    print(\"The youngest is \",first)\n",
        "  print (\"Oldest is\",second)\n",
        "elif third >= first and third >= second:\n",
        "  if second>first:\n",
        "    print(\"The youngest is \",first)\n",
        "  elif first==second==third:\n",
        "    print (\"All are equal\")\n",
        "  else:\n",
        "    print(\"The youngest is \",second)\n",
        "  print (\"Oldest is\",third)"
      ],
      "metadata": {
        "colab": {
          "base_uri": "https://localhost:8080/"
        },
        "id": "fUTyVyjcxSr9",
        "outputId": "1786ddcc-f41e-4f67-f8e8-6e1aee7cef34"
      },
      "execution_count": null,
      "outputs": [
        {
          "output_type": "stream",
          "name": "stdout",
          "text": [
            "Enter first age 54\n",
            "Enter second age26\n",
            "Enter third age34\n",
            "The youngest is  26\n",
            "Oldest is 54\n"
          ]
        }
      ]
    },
    {
      "cell_type": "code",
      "source": [
        "\"\"\"Write a program to print absolute vlaue of a number entered by user. E.g.-\n",
        "INPUT: 1        OUTPUT: 1\n",
        "INPUT: -1        OUTPUT: 1\"\"\"\n",
        "number = float(input(\"Enter a number\"))\n",
        "if number<0:\n",
        "  print(number*-1)\n",
        "else:\n",
        "  print(number)"
      ],
      "metadata": {
        "colab": {
          "base_uri": "https://localhost:8080/"
        },
        "id": "Nbm0jmsF4l2B",
        "outputId": "8a208fc6-71dd-4217-fb32-53a8853d6521"
      },
      "execution_count": null,
      "outputs": [
        {
          "output_type": "stream",
          "name": "stdout",
          "text": [
            "Enter a number-34\n",
            "34.0\n"
          ]
        }
      ]
    },
    {
      "cell_type": "code",
      "source": [
        "\"\"\"A student will not be allowed to sit in exam if his/her attendence is less than 75%.\n",
        "Take following input from user\n",
        "Number of classes held\n",
        "Number of classes attended.\n",
        "And print\n",
        "percentage of class attended\n",
        "Is student is allowed to sit in exam or not.\"\"\"\n",
        "\n",
        "noh = int(input(\"Number of classes held\"))\n",
        "noa = int(input(\"Number of classes attended\"))\n",
        "atten = (noa/noh)*100\n",
        "print(\"Attendence is %\",round(atten,1))\n",
        "if atten >= 75:\n",
        "  print (\"You are allowed to sit in exam\")\n",
        "else:\n",
        "  print (\"Sorry, you are not allowed. Attend more classes from next time.\")"
      ],
      "metadata": {
        "colab": {
          "base_uri": "https://localhost:8080/"
        },
        "id": "WAx1MV5KxSpa",
        "outputId": "ef0c287e-c5f9-4cfc-b68d-d91db5c770b0"
      },
      "execution_count": null,
      "outputs": [
        {
          "output_type": "stream",
          "name": "stdout",
          "text": [
            "Number of classes held2\n",
            "Number of classes attended3\n",
            "Attendence is % 150.0\n",
            "You are allowed to sit in exam\n"
          ]
        }
      ]
    },
    {
      "cell_type": "code",
      "source": [
        "#Modify the above question to allow student to sit if he/she has medical cause. Ask user if he/she has medical cause or not ( 'Y' or 'N' ) and print accordingly\n",
        "noh = int(input(\"Number of classes held \"))\n",
        "noa = int(input(\"Number of classes attended \"))\n",
        "atten = (noa/noh)*100\n",
        "print (\"Attendence is\",atten)\n",
        "if atten >= 75:\n",
        "  print (\"You are allowed to sit in exam\")\n",
        "else:\n",
        "  medical_cause = input(\"Medical Condition? Type Y if yes Else N\").lower()\n",
        "  if medical_cause == 'y':\n",
        "    print (\"You are allowed due to medical condition \")\n",
        "  else:\n",
        "    print (\"Sorry, you are not allowed. Attend more classes from next time.\")\n"
      ],
      "metadata": {
        "colab": {
          "base_uri": "https://localhost:8080/"
        },
        "id": "XJBtGyvMxSnK",
        "outputId": "35dc0b94-f2c1-4395-a08b-3a3340aabbd2"
      },
      "execution_count": null,
      "outputs": [
        {
          "output_type": "stream",
          "name": "stdout",
          "text": [
            "Number of classes held 20\n",
            "Number of classes attended 12\n",
            "Attendence is 60.0\n",
            "Medical Condition? Type Y if yes Else Ny\n",
            "You are allowed due to medical condition \n"
          ]
        }
      ]
    }
  ]
}
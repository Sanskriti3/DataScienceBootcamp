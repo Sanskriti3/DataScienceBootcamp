{
  "nbformat": 4,
  "nbformat_minor": 0,
  "metadata": {
    "colab": {
      "provenance": [],
      "authorship_tag": "ABX9TyMPxsdF9UtgpbUsn7uSAnIX",
      "include_colab_link": true
    },
    "kernelspec": {
      "name": "python3",
      "display_name": "Python 3"
    },
    "language_info": {
      "name": "python"
    }
  },
  "cells": [
    {
      "cell_type": "markdown",
      "metadata": {
        "id": "view-in-github",
        "colab_type": "text"
      },
      "source": [
        "<a href=\"https://colab.research.google.com/github/Sanskriti3/DataScienceBootcamp/blob/main/ClassNotes/loops_.ipynb\" target=\"_parent\"><img src=\"https://colab.research.google.com/assets/colab-badge.svg\" alt=\"Open In Colab\"/></a>"
      ]
    },
    {
      "cell_type": "code",
      "source": [
        "#nested IF\n",
        "a = 125\n",
        "\n",
        "if (a < 200):\n",
        "  print('if (a < 200):')\n",
        "  if (a < 175):\n",
        "    print('if (a < 175):')\n",
        "    if (a < 150):\n",
        "      print('if (a < 150):')\n",
        "      if (a < 125):\n",
        "        print('if (a < 125):')\n",
        "        if (a < 100):\n",
        "          print('if (a < 100):')\n",
        "          if (a < 75):\n",
        "            print('if (a < 75):')\n",
        "          else:\n",
        "            print('else if (a < 75):')\n",
        "        else:\n",
        "          print('else if (a < 100):')\n",
        "      else:\n",
        "        print('else if (a < 125):')\n",
        "    else:\n",
        "      print('else if (a < 150):')\n",
        "  else:\n",
        "    print('else if (a < 175):')\n",
        "else:\n",
        "  print('else if (a < 200):')"
      ],
      "metadata": {
        "colab": {
          "base_uri": "https://localhost:8080/"
        },
        "id": "ea1lb6Ftqs6-",
        "outputId": "01bba511-be79-4500-b263-130c27b9bf9a"
      },
      "execution_count": null,
      "outputs": [
        {
          "output_type": "stream",
          "name": "stdout",
          "text": [
            "if (a < 200):\n",
            "if (a < 175):\n",
            "if (a < 150):\n",
            "else if (a < 125):\n"
          ]
        }
      ]
    },
    {
      "cell_type": "code",
      "source": [
        "# while loop\n",
        "\n",
        "a = 100\n",
        "\n",
        "while a > 10: # True/False\n",
        "  print(a, 'is greater 10')\n",
        "  a -= 1 # 99, 98, 97..... 15,14,13,12,11"
      ],
      "metadata": {
        "id": "eLYfoSn9qs4l"
      },
      "execution_count": null,
      "outputs": []
    },
    {
      "cell_type": "code",
      "source": [
        "a = 10\n",
        "\n",
        "while a < 100: # True/False\n",
        "  print(a, 'is less than 100')\n",
        "  a += 10"
      ],
      "metadata": {
        "colab": {
          "base_uri": "https://localhost:8080/"
        },
        "id": "R6j81Z0Uqs2J",
        "outputId": "231cebc6-fde4-4dc2-d090-0bcbdcd04bf9"
      },
      "execution_count": null,
      "outputs": [
        {
          "output_type": "stream",
          "name": "stdout",
          "text": [
            "10 is less than 100\n",
            "20 is less than 100\n",
            "30 is less than 100\n",
            "40 is less than 100\n",
            "50 is less than 100\n",
            "60 is less than 100\n",
            "70 is less than 100\n",
            "80 is less than 100\n",
            "90 is less than 100\n"
          ]
        }
      ]
    },
    {
      "cell_type": "code",
      "source": [
        "#break continue pass\n",
        "a = 10\n",
        "\n",
        "while a < 100: # True/False\n",
        "  if a == 50:\n",
        "    break\n",
        "  print(a, 'is less than 100')\n",
        "  a += 10"
      ],
      "metadata": {
        "colab": {
          "base_uri": "https://localhost:8080/"
        },
        "id": "2T3wpJUaqswq",
        "outputId": "5c7861b2-bc94-4dd9-b412-0abd08afd701"
      },
      "execution_count": null,
      "outputs": [
        {
          "output_type": "stream",
          "name": "stdout",
          "text": [
            "10 is less than 100\n",
            "20 is less than 100\n",
            "30 is less than 100\n",
            "40 is less than 100\n"
          ]
        }
      ]
    },
    {
      "cell_type": "code",
      "source": [
        "a = 10\n",
        "\n",
        "while a < 100: # True/False\n",
        "\n",
        "  a += 10\n",
        "\n",
        "  if a == 50:\n",
        "    continue\n",
        "  print(a, 'is less than 100')"
      ],
      "metadata": {
        "colab": {
          "base_uri": "https://localhost:8080/"
        },
        "id": "j0Rv7tyuqsot",
        "outputId": "fc7e5c69-367d-4b88-cf28-4e6dda591582"
      },
      "execution_count": null,
      "outputs": [
        {
          "output_type": "stream",
          "name": "stdout",
          "text": [
            "20 is less than 100\n",
            "30 is less than 100\n",
            "40 is less than 100\n",
            "60 is less than 100\n",
            "70 is less than 100\n",
            "80 is less than 100\n",
            "90 is less than 100\n",
            "100 is less than 100\n"
          ]
        }
      ]
    },
    {
      "cell_type": "code",
      "source": [
        "a = 200\n",
        "\n",
        "while (a < 500):\n",
        "  pass"
      ],
      "metadata": {
        "id": "k9Z9XFWtqsmZ"
      },
      "execution_count": null,
      "outputs": []
    },
    {
      "cell_type": "code",
      "source": [
        "# Write a program 0 to 100 and find odd and even numbers; use while loop\n",
        "a = 100\n",
        "\n",
        "while a >= 0:\n",
        "  if a%2==0:\n",
        "    print(a, 'is even number')\n",
        "  else:\n",
        "    print(a, 'is odd number')\n",
        "  a -= 1"
      ],
      "metadata": {
        "id": "WQXNpk8VqskO"
      },
      "execution_count": null,
      "outputs": []
    },
    {
      "cell_type": "code",
      "source": [
        "total = 0\n",
        "#num = int(input('enter a number '))\n",
        "\n",
        "while num != 0:\n",
        "  total += num\n",
        "  num = int(input('enter a number '))\n",
        "print(total)"
      ],
      "metadata": {
        "colab": {
          "base_uri": "https://localhost:8080/"
        },
        "id": "G0bAIjEyqsht",
        "outputId": "57faa82f-4a43-4d14-c15f-2a845087919c"
      },
      "execution_count": null,
      "outputs": [
        {
          "output_type": "stream",
          "name": "stdout",
          "text": [
            "enter a number 0\n",
            "10\n"
          ]
        }
      ]
    },
    {
      "cell_type": "code",
      "source": [
        "# voting eligibility\n",
        "\n",
        "total = 0\n",
        "num = int(input('enter a voting age '))\n",
        "\n",
        "while num >= 18:\n",
        "  total += 1\n",
        "  num = int(input('enter a voting age '))\n",
        "print(total)"
      ],
      "metadata": {
        "colab": {
          "base_uri": "https://localhost:8080/"
        },
        "id": "gUV0sfyQqsfR",
        "outputId": "cd0b8472-5475-45e7-933e-5fe7be6ea80e"
      },
      "execution_count": null,
      "outputs": [
        {
          "output_type": "stream",
          "name": "stdout",
          "text": [
            "enter a voting age 33\n",
            "enter a voting age 12\n",
            "1\n"
          ]
        }
      ]
    },
    {
      "cell_type": "code",
      "source": [
        "lst1 = [1,2,3,4,5,6,7,8,9,10,11,22,33,44,55,66,77,88,99,110,12,23,34,45,56,67,78,89,90]\n",
        "\n",
        "# lst1.pop()\n",
        "\n",
        "while lst1:\n",
        "  print(lst1.pop())"
      ],
      "metadata": {
        "id": "nsw9pBZDqsc2"
      },
      "execution_count": null,
      "outputs": []
    },
    {
      "cell_type": "code",
      "source": [
        "# write a program where number is divisible by 5 and 7\n",
        "\n",
        "num1 = int(input('Enter a number '))\n",
        "\n",
        "while (num1%5==0) and (num1%7==0):\n",
        "  print(num1, 'is divisible by 5 and 7')\n",
        "  break\n",
        "else:\n",
        "  print(num1, 'is not divisible by 5 and 7')"
      ],
      "metadata": {
        "colab": {
          "base_uri": "https://localhost:8080/"
        },
        "id": "sZfe_NZiqsaZ",
        "outputId": "c8e2e56b-6ad1-41ad-ff3e-816ade5100c2"
      },
      "execution_count": null,
      "outputs": [
        {
          "output_type": "stream",
          "name": "stdout",
          "text": [
            "Enter a number 70\n",
            "70 is divisible by 5 and 7\n"
          ]
        }
      ]
    },
    {
      "cell_type": "code",
      "execution_count": null,
      "metadata": {
        "id": "s3tU_aAsqf-P"
      },
      "outputs": [],
      "source": []
    }
  ]
}
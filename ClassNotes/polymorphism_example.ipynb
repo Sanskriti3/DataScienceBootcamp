{
  "nbformat": 4,
  "nbformat_minor": 0,
  "metadata": {
    "colab": {
      "provenance": [],
      "authorship_tag": "ABX9TyPnbsLOrr4KuWZHOviay5+r",
      "include_colab_link": true
    },
    "kernelspec": {
      "name": "python3",
      "display_name": "Python 3"
    },
    "language_info": {
      "name": "python"
    }
  },
  "cells": [
    {
      "cell_type": "markdown",
      "metadata": {
        "id": "view-in-github",
        "colab_type": "text"
      },
      "source": [
        "<a href=\"https://colab.research.google.com/github/Sanskriti3/DataScienceBootcamp/blob/main/ClassNotes/polymorphism_example.ipynb\" target=\"_parent\"><img src=\"https://colab.research.google.com/assets/colab-badge.svg\" alt=\"Open In Colab\"/></a>"
      ]
    },
    {
      "cell_type": "code",
      "execution_count": null,
      "metadata": {
        "colab": {
          "base_uri": "https://localhost:8080/"
        },
        "id": "7FID53RnXai-",
        "outputId": "c3631ad0-d8ef-4b4f-8e47-a2d5874cffe4"
      },
      "outputs": [
        {
          "output_type": "stream",
          "name": "stdout",
          "text": [
            "Pakun, my lovely boy\n",
            "4\n",
            "bites\n",
            "squeaky toy\n",
            "Woof!\n",
            "\n",
            "tiger, my spicy girl\n",
            "4\n",
            "scratches\n",
            "nobody\n",
            "Meow!\n",
            "\n",
            "Ari, my talkative kid\n",
            "2\n",
            "pecks\n",
            "blueberries\n",
            "chirp!\n",
            "\n"
          ]
        }
      ],
      "source": [
        "class my_pets:\n",
        "  def __init__(self, name, legs,action,loves):\n",
        "    self.name = name\n",
        "    self.legs = legs\n",
        "    self.action = action\n",
        "    self.loves = loves\n",
        "\n",
        "  def sound(self):\n",
        "    print('sound')\n",
        "\n",
        "class dog(my_pets):\n",
        "  def sound(self):\n",
        "    print(\"Woof!\")\n",
        "\n",
        "class cat(my_pets):\n",
        "  def sound(self):\n",
        "    print(\"Meow!\")\n",
        "\n",
        "class bird(my_pets):\n",
        "  def sound(self):\n",
        "    print(\"chirp!\")\n",
        "\n",
        "dog1 = dog(\"Pakun, my lovely boy\", 4, \"bites\", \"squeaky toy\")\n",
        "cat1 = cat(\"tiger, my spicy girl\", 4, \"scratches\",  \"nobody\")\n",
        "bird1 = bird(\"Ari, my talkative kid\", 2, \"pecks\", \"blueberries\")\n",
        "\n",
        "for k in (dog1,cat1,bird1):\n",
        "  print(k.name)\n",
        "  print(k.legs)\n",
        "  print(k.action)\n",
        "  print(k.loves)\n",
        "  k.sound()\n",
        "  print()"
      ]
    }
  ]
}
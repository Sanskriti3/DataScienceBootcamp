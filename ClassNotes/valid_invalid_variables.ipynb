{
  "nbformat": 4,
  "nbformat_minor": 0,
  "metadata": {
    "colab": {
      "provenance": []
    },
    "kernelspec": {
      "name": "python3",
      "display_name": "Python 3"
    },
    "language_info": {
      "name": "python"
    }
  },
  "cells": [
    {
      "cell_type": "code",
      "execution_count": null,
      "metadata": {
        "colab": {
          "base_uri": "https://localhost:8080/",
          "height": 161
        },
        "id": "nAu63flzSZY-",
        "outputId": "6c0c657e-7403-47cd-eba0-80e46cbf7afa"
      },
      "outputs": [
        {
          "output_type": "error",
          "ename": "SyntaxError",
          "evalue": "ignored",
          "traceback": [
            "\u001b[0;36m  File \u001b[0;32m\"<ipython-input-1-53e19566afaa>\"\u001b[0;36m, line \u001b[0;32m8\u001b[0m\n\u001b[0;31m    last@name = 'Peter'\u001b[0m\n\u001b[0m    ^\u001b[0m\n\u001b[0;31mSyntaxError\u001b[0m\u001b[0;31m:\u001b[0m cannot assign to expression here. Maybe you meant '==' instead of '='?\n"
          ]
        }
      ],
      "source": [
        "#valid variables and invalid variables\n",
        "name='Anuurag'\n",
        "#12gender = 'M'\n",
        "#@address = '123 Park Street'\n",
        "_fname = 'Umesh'\n",
        "gen12der = 'M'\n",
        "print(name, _fname, gen12der)\n",
        "last@name = 'Peter'"
      ]
    }
  ]
}
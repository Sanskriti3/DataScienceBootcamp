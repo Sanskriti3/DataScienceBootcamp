{
  "nbformat": 4,
  "nbformat_minor": 0,
  "metadata": {
    "colab": {
      "provenance": []
    },
    "kernelspec": {
      "name": "python3",
      "display_name": "Python 3"
    },
    "language_info": {
      "name": "python"
    }
  },
  "cells": [
    {
      "cell_type": "code",
      "execution_count": null,
      "metadata": {
        "colab": {
          "base_uri": "https://localhost:8080/"
        },
        "id": "XC8DqLCDYALg",
        "outputId": "a99197c6-b50e-42ce-ed75-70ac479ef489"
      },
      "outputs": [
        {
          "output_type": "stream",
          "name": "stdout",
          "text": [
            "welcome to the rock paper scissors game. You can only exit if you win. \n",
            "Please make a choice : rock, paper, scissors23\n",
            "computer chooses scissors\n",
            "invalid selection\n",
            "Please make a choice : rock, paper, scissorspaper\n",
            "computer chooses scissors\n",
            "You lost, Rematch\n",
            "Please make a choice : rock, paper, scissorsrock\n",
            "computer chooses scissors\n",
            "You win, congratulations!\n"
          ]
        }
      ],
      "source": [
        "print(\"welcome to the rock paper scissors game. You can only exit if you win. \")\n",
        "win=0\n",
        "while True:\n",
        "  user_input = input(\"Please make a choice : rock, paper, scissors\")\n",
        "  user_input = user_input.lower()\n",
        "  import random\n",
        "  possible_actions = [\"rock\", \"paper\", \"scissors\"]\n",
        "  computer_action = random.choice(possible_actions)\n",
        "  print(\"computer chooses\", computer_action)\n",
        "  if user_input == computer_action:\n",
        "    print(\"its a tie!! play again\")\n",
        "  elif user_input=='rock' and computer_action == 'scissors':\n",
        "    print(\"You win, congratulations!\")\n",
        "    win = win +1\n",
        "  elif user_input == 'paper' and computer_action == 'rock':\n",
        "    print(\"You win, congratulations!\")\n",
        "    win = win+1\n",
        "  elif user_input == 'scissors' and computer_action == 'paper':\n",
        "    print(\"You win, congratulations!\")\n",
        "    win = win+1\n",
        "  elif user_input == 'scissors' and computer_action == 'rock':\n",
        "    print(\"You lost, Rematch\")\n",
        "  elif user_input == 'rock' and computer_action == 'paper':\n",
        "    print(\"You lost, Rematch\")\n",
        "  elif user_input == 'paper' and computer_action == 'scissors':\n",
        "    print(\"You lost, Rematch\")\n",
        "  else:\n",
        "    print(\"invalid selection\")\n",
        "\n",
        "  if win==1:\n",
        "    break"
      ]
    },
    {
      "cell_type": "code",
      "source": [
        "#optimized nested loop as per rohit's suggestion\n",
        "print(\"welcome to the rock paper scissors game. You can only exit if you win. \")\n",
        "win=0\n",
        "while True:\n",
        "  user_input = input(\"Please make a choice : rock, paper, scissors \")\n",
        "  user_input = user_input.lower()\n",
        "  import random\n",
        "  possible_actions = [\"rock\", \"paper\", \"scissors\"]\n",
        "  computer_action = random.choice(possible_actions)\n",
        "  print(\"computer chooses\", computer_action)\n",
        "  if user_input == computer_action:\n",
        "    print(\"its a tie!! play again\")\n",
        "  elif user_input=='rock':\n",
        "    if computer_action== 'scissors':\n",
        "      print(\"You win, congratulations!\")\n",
        "      win = win +1\n",
        "    elif computer_action == 'paper':\n",
        "      print(\"You lost, Rematch\")\n",
        "  elif user_input == 'paper':\n",
        "    if computer_action == 'rock':\n",
        "      print(\"You win, congratulations!\")\n",
        "      win = win+1\n",
        "    elif computer_action== 'scissors':\n",
        "      print(\"You lost, Rematch\")\n",
        "  elif user_input == 'scissors':\n",
        "    if computer_action == 'paper':\n",
        "      print(\"You win, congratulations!\")\n",
        "      win = win+1\n",
        "    elif computer_action == 'rock':\n",
        "      print(\"You lost, Rematch\")\n",
        "\n",
        "  else:\n",
        "    print(\"invalid selection\")\n",
        "\n",
        "  if win==1:\n",
        "    break"
      ],
      "metadata": {
        "colab": {
          "base_uri": "https://localhost:8080/"
        },
        "id": "mRu9i393eFUF",
        "outputId": "32174d5c-7220-4e06-9a94-6a5028526976"
      },
      "execution_count": null,
      "outputs": [
        {
          "output_type": "stream",
          "name": "stdout",
          "text": [
            "welcome to the rock paper scissors game. You can only exit if you win. \n",
            "Please make a choice : rock, paper, scissors rock\n",
            "computer chooses scissors\n",
            "You win, congratulations!\n"
          ]
        }
      ]
    }
  ]
}
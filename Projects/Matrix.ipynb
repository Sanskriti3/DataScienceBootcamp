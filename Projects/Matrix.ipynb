{
  "nbformat": 4,
  "nbformat_minor": 0,
  "metadata": {
    "colab": {
      "provenance": []
    },
    "kernelspec": {
      "name": "python3",
      "display_name": "Python 3"
    },
    "language_info": {
      "name": "python"
    }
  },
  "cells": [
    {
      "cell_type": "code",
      "execution_count": null,
      "metadata": {
        "colab": {
          "base_uri": "https://localhost:8080/"
        },
        "id": "_ZN48OrPq8MY",
        "outputId": "b1ac77c9-8b6d-4ee9-93ad-c5565c095b97"
      },
      "outputs": [
        {
          "output_type": "stream",
          "name": "stdout",
          "text": [
            "7 | 8 | 9\n",
            "----------\n",
            "4 | 5 | 6\n",
            "----------\n",
            "1 | 2 | 3\n"
          ]
        }
      ],
      "source": [
        "lst= [1,2,3,4,5,6,7,8,9]\n",
        "def print_matrix():\n",
        "  print(lst[6],'|', lst[7],'|', lst[8])\n",
        "  print(\"----------\")\n",
        "  print(lst[3],'|', lst[4],'|', lst[5])\n",
        "  print(\"----------\")\n",
        "  print(lst[0],'|', lst[1],'|', lst[2])\n",
        "\n",
        "print_matrix()"
      ]
    },
    {
      "cell_type": "code",
      "source": [
        "cross=int(input(\"please enter the number you want to x out \"))\n",
        "if cross== 1:\n",
        "  lst[0]='X'\n",
        "elif cross == 2:\n",
        "  lst[1]='X'\n",
        "elif cross == 3:\n",
        "  lst[2]='X'\n",
        "elif cross == 4:\n",
        "  lst[3]='X'\n",
        "elif cross == 5:\n",
        "  lst[4]='X'\n",
        "elif cross == 6:\n",
        "  lst[5]='X'\n",
        "elif cross == 7:\n",
        "  lst[6]='X'\n",
        "elif cross == 8:\n",
        "  lst[7]='X'\n",
        "elif cross == 9:\n",
        "  lst[8]='X'\n",
        "else:\n",
        "  print(\"invalid entry\")\n",
        "\n",
        "print_matrix()"
      ],
      "metadata": {
        "colab": {
          "base_uri": "https://localhost:8080/"
        },
        "id": "1Gjfr_vusru9",
        "outputId": "8829c132-2e6a-44b1-9107-c91870948080"
      },
      "execution_count": null,
      "outputs": [
        {
          "output_type": "stream",
          "name": "stdout",
          "text": [
            "please enter the number you want to x out 12\n",
            "invalid entry\n",
            "7 | 8 | 9\n",
            "----------\n",
            "4 | 5 | 6\n",
            "----------\n",
            "1 | 2 | 3\n"
          ]
        }
      ]
    }
  ]
}